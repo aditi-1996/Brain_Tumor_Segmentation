{
 "cells": [
  {
   "cell_type": "markdown",
   "id": "3e36788f",
   "metadata": {},
   "source": [
    "# Motivation: \n",
    "\n",
    "https://www.kaggle.com/code/arashmehrzadi/brain-tumor-segmentation-unet"
   ]
  },
  {
   "cell_type": "code",
   "execution_count": null,
   "id": "b9e2fbd2",
   "metadata": {
    "id": "b9e2fbd2"
   },
   "outputs": [],
   "source": [
    "import os\n",
    "import pandas as pd\n",
    "import numpy as np\n",
    "import nibabel as nib\n",
    "import matplotlib.pyplot as plt\n",
    "from skimage.io import imsave, imread\n",
    "import cv2\n",
    "import glob2\n",
    "%matplotlib inline"
   ]
  },
  {
   "cell_type": "code",
   "execution_count": null,
   "id": "d4bbe1c3",
   "metadata": {
    "id": "d4bbe1c3"
   },
   "outputs": [],
   "source": [
    "# We fixed the 355th patient by renaming the segmantation file.\n",
    "TRAIN_DATASET_PATH = os.path.abspath('../data/BraTS2020_TrainingData/MICCAI_BraTS2020_TrainingData/')"
   ]
  },
  {
   "cell_type": "code",
   "execution_count": null,
   "id": "9f75a705",
   "metadata": {
    "id": "9f75a705"
   },
   "outputs": [],
   "source": [
    "assert os.path.exists(TRAIN_DATASET_PATH)"
   ]
  },
  {
   "cell_type": "code",
   "execution_count": null,
   "id": "c2e8875e",
   "metadata": {
    "id": "c2e8875e",
    "outputId": "ab42a71f-d52b-4d87-8fee-9b86ba843654"
   },
   "outputs": [
    {
     "data": {
      "text/plain": [
       "1845"
      ]
     },
     "execution_count": 4,
     "metadata": {},
     "output_type": "execute_result"
    }
   ],
   "source": [
    "TRAIN_DATA = sorted(glob2.glob(TRAIN_DATASET_PATH + '/**/*.nii'))\n",
    "len(TRAIN_DATA)"
   ]
  },
  {
   "cell_type": "code",
   "execution_count": null,
   "id": "c8826756",
   "metadata": {
    "id": "c8826756"
   },
   "outputs": [],
   "source": [
    "TRAIN_IMAGES_FLAIR = []\n",
    "TRAIN_IMAGES_T1 = []\n",
    "TRAIN_IMAGES_T1CE = []\n",
    "TRAIN_IMAGES_T2 = []\n",
    "TRAIN_IMAGES_SEG_MASKS = []"
   ]
  },
  {
   "cell_type": "code",
   "execution_count": null,
   "id": "801adf2e",
   "metadata": {
    "id": "801adf2e"
   },
   "outputs": [],
   "source": [
    "for data_item in TRAIN_DATA:\n",
    "    if '_seg.nii' in data_item:\n",
    "        TRAIN_IMAGES_SEG_MASKS.append(data_item)\n",
    "    elif '_flair.nii' in data_item:\n",
    "        TRAIN_IMAGES_FLAIR.append(data_item)\n",
    "    elif '_t1.nii' in data_item:\n",
    "        TRAIN_IMAGES_T1.append(data_item)\n",
    "    elif '_t1ce.nii' in data_item:\n",
    "        TRAIN_IMAGES_T1CE.append(data_item)\n",
    "    elif '_t2.nii' in data_item:\n",
    "        TRAIN_IMAGES_T2.append(data_item)"
   ]
  },
  {
   "cell_type": "code",
   "execution_count": null,
   "id": "c6fd5ed1",
   "metadata": {
    "id": "c6fd5ed1"
   },
   "outputs": [],
   "source": [
    "def combine_modality(flair, t1, t1ce, t2):\n",
    "    all_modalities = []\n",
    "    flair_data = np.asarray(nib.load(flair).dataobj)\n",
    "    t1_data = np.asarray(nib.load(t1).dataobj)\n",
    "    t1ce_data = np.asarray(nib.load(t1ce).dataobj)\n",
    "    t2_data = np.asarray(nib.load(t2).dataobj)\n",
    "    all_modalities.append(flair_data)\n",
    "    all_modalities.append(t1_data)\n",
    "    all_modalities.append(t1ce_data)\n",
    "    all_modalities.append(t2_data)\n",
    "    all_modalities = np.array(all_modalities)\n",
    "    all_modalities = np.transpose(all_modalities)\n",
    "    return all_modalities"
   ]
  },
  {
   "cell_type": "code",
   "execution_count": null,
   "id": "cb72fcba",
   "metadata": {
    "id": "cb72fcba"
   },
   "outputs": [],
   "source": [
    "# Make it 3 channel image.\n",
    "def club_image(img):\n",
    "    return cv2.merge((img, img, img))"
   ]
  },
  {
   "cell_type": "code",
   "execution_count": null,
   "id": "3872eb74",
   "metadata": {
    "id": "3872eb74"
   },
   "outputs": [],
   "source": [
    "def get_img_dir_path(path):\n",
    "    if not os.path.exists(path):\n",
    "        os.makedirs(path)\n",
    "    return path"
   ]
  },
  {
   "cell_type": "code",
   "execution_count": null,
   "id": "48db5166",
   "metadata": {
    "id": "48db5166"
   },
   "outputs": [],
   "source": [
    "IMG_DIR = os.path.abspath('../data/train/images/')\n",
    "MASK_DIR = os.path.abspath('../data/train/masks/')"
   ]
  },
  {
   "cell_type": "code",
   "execution_count": null,
   "id": "295cac39",
   "metadata": {
    "id": "295cac39"
   },
   "outputs": [],
   "source": [
    "assert os.path.exists(IMG_DIR)\n",
    "assert os.path.exists(MASK_DIR)"
   ]
  },
  {
   "cell_type": "code",
   "execution_count": null,
   "id": "0a48cf36",
   "metadata": {
    "id": "0a48cf36"
   },
   "outputs": [],
   "source": [
    "def save_img(img_data, file_name, mask = False):\n",
    "    if mask:\n",
    "        dir_to_use = MASK_DIR\n",
    "    else:\n",
    "        dir_to_use = IMG_DIR\n",
    "    try:\n",
    "        frames, _, _, _ = img_data.shape #for image \n",
    "    except ValueError:\n",
    "        frames, _, _ = img_data.shape #for segmented mask\n",
    "    for idx in range(frames):\n",
    "        image_name = file_name + '_' + str(idx) + '.png'\n",
    "        image_path = os.path.join(dir_to_use, image_name)\n",
    "        if not mask:\n",
    "            img = club_image(img_data[idx, :,:,3])\n",
    "        else:\n",
    "            img = img_data[idx, :, :]\n",
    "        cv2.imwrite(image_path, img)"
   ]
  },
  {
   "cell_type": "code",
   "execution_count": null,
   "id": "284ca1b9",
   "metadata": {
    "id": "284ca1b9",
    "outputId": "0089ab58-d584-4a05-986f-a371578439c2"
   },
   "outputs": [
    {
     "name": "stdout",
     "output_type": "stream",
     "text": [
      "Processing Images\n",
      "Processing File : BraTS20_Training_001\n",
      "Saving file : BraTS20_Training_001\n",
      "Processing File : BraTS20_Training_002\n",
      "Saving file : BraTS20_Training_002\n",
      "Processing File : BraTS20_Training_003\n",
      "Saving file : BraTS20_Training_003\n",
      "Processing File : BraTS20_Training_004\n",
      "Saving file : BraTS20_Training_004\n",
      "Processing File : BraTS20_Training_005\n",
      "Saving file : BraTS20_Training_005\n",
      "Processing File : BraTS20_Training_006\n",
      "Saving file : BraTS20_Training_006\n",
      "Processing File : BraTS20_Training_007\n",
      "Saving file : BraTS20_Training_007\n",
      "Processing File : BraTS20_Training_008\n",
      "Saving file : BraTS20_Training_008\n",
      "Processing File : BraTS20_Training_009\n",
      "Saving file : BraTS20_Training_009\n",
      "Processing File : BraTS20_Training_010\n",
      "Saving file : BraTS20_Training_010\n",
      "Processing File : BraTS20_Training_011\n",
      "Saving file : BraTS20_Training_011\n",
      "Processing File : BraTS20_Training_012\n",
      "Saving file : BraTS20_Training_012\n",
      "Processing File : BraTS20_Training_013\n",
      "Saving file : BraTS20_Training_013\n",
      "Processing File : BraTS20_Training_014\n",
      "Saving file : BraTS20_Training_014\n",
      "Processing File : BraTS20_Training_015\n",
      "Saving file : BraTS20_Training_015\n",
      "Processing File : BraTS20_Training_016\n",
      "Saving file : BraTS20_Training_016\n",
      "Processing File : BraTS20_Training_017\n",
      "Saving file : BraTS20_Training_017\n",
      "Processing File : BraTS20_Training_018\n",
      "Saving file : BraTS20_Training_018\n",
      "Processing File : BraTS20_Training_019\n",
      "Saving file : BraTS20_Training_019\n",
      "Processing File : BraTS20_Training_020\n",
      "Saving file : BraTS20_Training_020\n",
      "Processing File : BraTS20_Training_021\n",
      "Saving file : BraTS20_Training_021\n",
      "Processing File : BraTS20_Training_022\n",
      "Saving file : BraTS20_Training_022\n",
      "Processing File : BraTS20_Training_023\n",
      "Saving file : BraTS20_Training_023\n",
      "Processing File : BraTS20_Training_024\n",
      "Saving file : BraTS20_Training_024\n",
      "Processing File : BraTS20_Training_025\n",
      "Saving file : BraTS20_Training_025\n",
      "Processing File : BraTS20_Training_026\n",
      "Saving file : BraTS20_Training_026\n",
      "Processing File : BraTS20_Training_027\n",
      "Saving file : BraTS20_Training_027\n",
      "Processing File : BraTS20_Training_028\n",
      "Saving file : BraTS20_Training_028\n",
      "Processing File : BraTS20_Training_029\n",
      "Saving file : BraTS20_Training_029\n",
      "Processing File : BraTS20_Training_030\n",
      "Saving file : BraTS20_Training_030\n",
      "Processing File : BraTS20_Training_031\n",
      "Saving file : BraTS20_Training_031\n",
      "Processing File : BraTS20_Training_032\n",
      "Saving file : BraTS20_Training_032\n",
      "Processing File : BraTS20_Training_033\n",
      "Saving file : BraTS20_Training_033\n",
      "Processing File : BraTS20_Training_034\n",
      "Saving file : BraTS20_Training_034\n",
      "Processing File : BraTS20_Training_035\n",
      "Saving file : BraTS20_Training_035\n",
      "Processing File : BraTS20_Training_036\n",
      "Saving file : BraTS20_Training_036\n",
      "Processing File : BraTS20_Training_037\n",
      "Saving file : BraTS20_Training_037\n",
      "Processing File : BraTS20_Training_038\n",
      "Saving file : BraTS20_Training_038\n",
      "Processing File : BraTS20_Training_039\n",
      "Saving file : BraTS20_Training_039\n",
      "Processing File : BraTS20_Training_040\n",
      "Saving file : BraTS20_Training_040\n",
      "Processing File : BraTS20_Training_041\n",
      "Saving file : BraTS20_Training_041\n",
      "Processing File : BraTS20_Training_042\n",
      "Saving file : BraTS20_Training_042\n",
      "Processing File : BraTS20_Training_043\n",
      "Saving file : BraTS20_Training_043\n",
      "Processing File : BraTS20_Training_044\n",
      "Saving file : BraTS20_Training_044\n",
      "Processing File : BraTS20_Training_045\n",
      "Saving file : BraTS20_Training_045\n",
      "Processing File : BraTS20_Training_046\n",
      "Saving file : BraTS20_Training_046\n",
      "Processing File : BraTS20_Training_047\n",
      "Saving file : BraTS20_Training_047\n",
      "Processing File : BraTS20_Training_048\n",
      "Saving file : BraTS20_Training_048\n",
      "Processing File : BraTS20_Training_049\n",
      "Saving file : BraTS20_Training_049\n",
      "Processing File : BraTS20_Training_050\n",
      "Saving file : BraTS20_Training_050\n",
      "Processing File : BraTS20_Training_051\n",
      "Saving file : BraTS20_Training_051\n",
      "Processing File : BraTS20_Training_052\n",
      "Saving file : BraTS20_Training_052\n",
      "Processing File : BraTS20_Training_053\n",
      "Saving file : BraTS20_Training_053\n",
      "Processing File : BraTS20_Training_054\n",
      "Saving file : BraTS20_Training_054\n",
      "Processing File : BraTS20_Training_055\n",
      "Saving file : BraTS20_Training_055\n",
      "Processing File : BraTS20_Training_056\n",
      "Saving file : BraTS20_Training_056\n",
      "Processing File : BraTS20_Training_057\n",
      "Saving file : BraTS20_Training_057\n",
      "Processing File : BraTS20_Training_058\n",
      "Saving file : BraTS20_Training_058\n",
      "Processing File : BraTS20_Training_059\n",
      "Saving file : BraTS20_Training_059\n",
      "Processing File : BraTS20_Training_060\n",
      "Saving file : BraTS20_Training_060\n",
      "Processing File : BraTS20_Training_061\n",
      "Saving file : BraTS20_Training_061\n",
      "Processing File : BraTS20_Training_062\n",
      "Saving file : BraTS20_Training_062\n",
      "Processing File : BraTS20_Training_063\n",
      "Saving file : BraTS20_Training_063\n",
      "Processing File : BraTS20_Training_064\n",
      "Saving file : BraTS20_Training_064\n",
      "Processing File : BraTS20_Training_065\n",
      "Saving file : BraTS20_Training_065\n",
      "Processing File : BraTS20_Training_066\n",
      "Saving file : BraTS20_Training_066\n",
      "Processing File : BraTS20_Training_067\n",
      "Saving file : BraTS20_Training_067\n",
      "Processing File : BraTS20_Training_068\n",
      "Saving file : BraTS20_Training_068\n",
      "Processing File : BraTS20_Training_069\n",
      "Saving file : BraTS20_Training_069\n",
      "Processing File : BraTS20_Training_070\n",
      "Saving file : BraTS20_Training_070\n",
      "Processing File : BraTS20_Training_071\n",
      "Saving file : BraTS20_Training_071\n",
      "Processing File : BraTS20_Training_072\n",
      "Saving file : BraTS20_Training_072\n",
      "Processing File : BraTS20_Training_073\n",
      "Saving file : BraTS20_Training_073\n",
      "Processing File : BraTS20_Training_074\n",
      "Saving file : BraTS20_Training_074\n",
      "Processing File : BraTS20_Training_075\n",
      "Saving file : BraTS20_Training_075\n",
      "Processing File : BraTS20_Training_076\n",
      "Saving file : BraTS20_Training_076\n",
      "Processing File : BraTS20_Training_077\n",
      "Saving file : BraTS20_Training_077\n",
      "Processing File : BraTS20_Training_078\n",
      "Saving file : BraTS20_Training_078\n",
      "Processing File : BraTS20_Training_079\n",
      "Saving file : BraTS20_Training_079\n",
      "Processing File : BraTS20_Training_080\n",
      "Saving file : BraTS20_Training_080\n",
      "Processing File : BraTS20_Training_081\n",
      "Saving file : BraTS20_Training_081\n",
      "Processing File : BraTS20_Training_082\n",
      "Saving file : BraTS20_Training_082\n",
      "Processing File : BraTS20_Training_083\n",
      "Saving file : BraTS20_Training_083\n",
      "Processing File : BraTS20_Training_084\n",
      "Saving file : BraTS20_Training_084\n",
      "Processing File : BraTS20_Training_085\n",
      "Saving file : BraTS20_Training_085\n",
      "Processing File : BraTS20_Training_086\n",
      "Saving file : BraTS20_Training_086\n",
      "Processing File : BraTS20_Training_087\n",
      "Saving file : BraTS20_Training_087\n",
      "Processing File : BraTS20_Training_088\n",
      "Saving file : BraTS20_Training_088\n",
      "Processing File : BraTS20_Training_089\n",
      "Saving file : BraTS20_Training_089\n",
      "Processing File : BraTS20_Training_090\n",
      "Saving file : BraTS20_Training_090\n",
      "Processing File : BraTS20_Training_091\n",
      "Saving file : BraTS20_Training_091\n",
      "Processing File : BraTS20_Training_092\n",
      "Saving file : BraTS20_Training_092\n",
      "Processing File : BraTS20_Training_093\n",
      "Saving file : BraTS20_Training_093\n",
      "Processing File : BraTS20_Training_094\n",
      "Saving file : BraTS20_Training_094\n",
      "Processing File : BraTS20_Training_095\n",
      "Saving file : BraTS20_Training_095\n",
      "Processing File : BraTS20_Training_096\n",
      "Saving file : BraTS20_Training_096\n",
      "Processing File : BraTS20_Training_097\n",
      "Saving file : BraTS20_Training_097\n",
      "Processing File : BraTS20_Training_098\n",
      "Saving file : BraTS20_Training_098\n",
      "Processing File : BraTS20_Training_099\n",
      "Saving file : BraTS20_Training_099\n",
      "Processing File : BraTS20_Training_100\n",
      "Saving file : BraTS20_Training_100\n",
      "Processing File : BraTS20_Training_101\n",
      "Saving file : BraTS20_Training_101\n",
      "Processing File : BraTS20_Training_102\n",
      "Saving file : BraTS20_Training_102\n",
      "Processing File : BraTS20_Training_103\n",
      "Saving file : BraTS20_Training_103\n",
      "Processing File : BraTS20_Training_104\n",
      "Saving file : BraTS20_Training_104\n",
      "Processing File : BraTS20_Training_105\n",
      "Saving file : BraTS20_Training_105\n",
      "Processing File : BraTS20_Training_106\n",
      "Saving file : BraTS20_Training_106\n",
      "Processing File : BraTS20_Training_107\n",
      "Saving file : BraTS20_Training_107\n",
      "Processing File : BraTS20_Training_108\n",
      "Saving file : BraTS20_Training_108\n",
      "Processing File : BraTS20_Training_109\n",
      "Saving file : BraTS20_Training_109\n",
      "Processing File : BraTS20_Training_110\n",
      "Saving file : BraTS20_Training_110\n",
      "Processing File : BraTS20_Training_111\n",
      "Saving file : BraTS20_Training_111\n",
      "Processing File : BraTS20_Training_112\n",
      "Saving file : BraTS20_Training_112\n",
      "Processing File : BraTS20_Training_113\n",
      "Saving file : BraTS20_Training_113\n",
      "Processing File : BraTS20_Training_114\n",
      "Saving file : BraTS20_Training_114\n",
      "Processing File : BraTS20_Training_115\n",
      "Saving file : BraTS20_Training_115\n",
      "Processing File : BraTS20_Training_116\n",
      "Saving file : BraTS20_Training_116\n",
      "Processing File : BraTS20_Training_117\n",
      "Saving file : BraTS20_Training_117\n",
      "Processing File : BraTS20_Training_118\n",
      "Saving file : BraTS20_Training_118\n",
      "Processing File : BraTS20_Training_119\n",
      "Saving file : BraTS20_Training_119\n",
      "Processing File : BraTS20_Training_120\n",
      "Saving file : BraTS20_Training_120\n",
      "Processing File : BraTS20_Training_121\n",
      "Saving file : BraTS20_Training_121\n",
      "Processing File : BraTS20_Training_122\n",
      "Saving file : BraTS20_Training_122\n",
      "Processing File : BraTS20_Training_123\n",
      "Saving file : BraTS20_Training_123\n",
      "Processing File : BraTS20_Training_124\n",
      "Saving file : BraTS20_Training_124\n",
      "Processing File : BraTS20_Training_125\n",
      "Saving file : BraTS20_Training_125\n",
      "Processing File : BraTS20_Training_126\n",
      "Saving file : BraTS20_Training_126\n",
      "Processing File : BraTS20_Training_127\n",
      "Saving file : BraTS20_Training_127\n",
      "Processing File : BraTS20_Training_128\n",
      "Saving file : BraTS20_Training_128\n",
      "Processing File : BraTS20_Training_129\n",
      "Saving file : BraTS20_Training_129\n",
      "Processing File : BraTS20_Training_130\n",
      "Saving file : BraTS20_Training_130\n",
      "Processing File : BraTS20_Training_131\n",
      "Saving file : BraTS20_Training_131\n",
      "Processing File : BraTS20_Training_132\n",
      "Saving file : BraTS20_Training_132\n",
      "Processing File : BraTS20_Training_133\n",
      "Saving file : BraTS20_Training_133\n",
      "Processing File : BraTS20_Training_134\n",
      "Saving file : BraTS20_Training_134\n",
      "Processing File : BraTS20_Training_135\n",
      "Saving file : BraTS20_Training_135\n",
      "Processing File : BraTS20_Training_136\n",
      "Saving file : BraTS20_Training_136\n",
      "Processing File : BraTS20_Training_137\n",
      "Saving file : BraTS20_Training_137\n",
      "Processing File : BraTS20_Training_138\n",
      "Saving file : BraTS20_Training_138\n",
      "Processing File : BraTS20_Training_139\n",
      "Saving file : BraTS20_Training_139\n",
      "Processing File : BraTS20_Training_140\n",
      "Saving file : BraTS20_Training_140\n",
      "Processing File : BraTS20_Training_141\n",
      "Saving file : BraTS20_Training_141\n",
      "Processing File : BraTS20_Training_142\n",
      "Saving file : BraTS20_Training_142\n",
      "Processing File : BraTS20_Training_143\n",
      "Saving file : BraTS20_Training_143\n",
      "Processing File : BraTS20_Training_144\n",
      "Saving file : BraTS20_Training_144\n",
      "Processing File : BraTS20_Training_145\n",
      "Saving file : BraTS20_Training_145\n",
      "Processing File : BraTS20_Training_146\n",
      "Saving file : BraTS20_Training_146\n",
      "Processing File : BraTS20_Training_147\n",
      "Saving file : BraTS20_Training_147\n",
      "Processing File : BraTS20_Training_148\n",
      "Saving file : BraTS20_Training_148\n",
      "Processing File : BraTS20_Training_149\n",
      "Saving file : BraTS20_Training_149\n",
      "Processing File : BraTS20_Training_150\n",
      "Saving file : BraTS20_Training_150\n",
      "Processing File : BraTS20_Training_151\n",
      "Saving file : BraTS20_Training_151\n",
      "Processing File : BraTS20_Training_152\n",
      "Saving file : BraTS20_Training_152\n",
      "Processing File : BraTS20_Training_153\n",
      "Saving file : BraTS20_Training_153\n",
      "Processing File : BraTS20_Training_154\n",
      "Saving file : BraTS20_Training_154\n",
      "Processing File : BraTS20_Training_155\n",
      "Saving file : BraTS20_Training_155\n",
      "Processing File : BraTS20_Training_156\n",
      "Saving file : BraTS20_Training_156\n",
      "Processing File : BraTS20_Training_157\n",
      "Saving file : BraTS20_Training_157\n",
      "Processing File : BraTS20_Training_158\n",
      "Saving file : BraTS20_Training_158\n",
      "Processing File : BraTS20_Training_159\n",
      "Saving file : BraTS20_Training_159\n",
      "Processing File : BraTS20_Training_160\n",
      "Saving file : BraTS20_Training_160\n",
      "Processing File : BraTS20_Training_161\n",
      "Saving file : BraTS20_Training_161\n",
      "Processing File : BraTS20_Training_162\n",
      "Saving file : BraTS20_Training_162\n",
      "Processing File : BraTS20_Training_163\n",
      "Saving file : BraTS20_Training_163\n",
      "Processing File : BraTS20_Training_164\n",
      "Saving file : BraTS20_Training_164\n",
      "Processing File : BraTS20_Training_165\n",
      "Saving file : BraTS20_Training_165\n",
      "Processing File : BraTS20_Training_166\n",
      "Saving file : BraTS20_Training_166\n",
      "Processing File : BraTS20_Training_167\n",
      "Saving file : BraTS20_Training_167\n",
      "Processing File : BraTS20_Training_168\n",
      "Saving file : BraTS20_Training_168\n",
      "Processing File : BraTS20_Training_169\n",
      "Saving file : BraTS20_Training_169\n",
      "Processing File : BraTS20_Training_170\n",
      "Saving file : BraTS20_Training_170\n",
      "Processing File : BraTS20_Training_171\n",
      "Saving file : BraTS20_Training_171\n",
      "Processing File : BraTS20_Training_172\n",
      "Saving file : BraTS20_Training_172\n",
      "Processing File : BraTS20_Training_173\n",
      "Saving file : BraTS20_Training_173\n",
      "Processing File : BraTS20_Training_174\n",
      "Saving file : BraTS20_Training_174\n",
      "Processing File : BraTS20_Training_175\n",
      "Saving file : BraTS20_Training_175\n",
      "Processing File : BraTS20_Training_176\n",
      "Saving file : BraTS20_Training_176\n",
      "Processing File : BraTS20_Training_177\n",
      "Saving file : BraTS20_Training_177\n",
      "Processing File : BraTS20_Training_178\n",
      "Saving file : BraTS20_Training_178\n",
      "Processing File : BraTS20_Training_179\n",
      "Saving file : BraTS20_Training_179\n",
      "Processing File : BraTS20_Training_180\n",
      "Saving file : BraTS20_Training_180\n",
      "Processing File : BraTS20_Training_181\n",
      "Saving file : BraTS20_Training_181\n",
      "Processing File : BraTS20_Training_182\n",
      "Saving file : BraTS20_Training_182\n",
      "Processing File : BraTS20_Training_183\n",
      "Saving file : BraTS20_Training_183\n",
      "Processing File : BraTS20_Training_184\n",
      "Saving file : BraTS20_Training_184\n",
      "Processing File : BraTS20_Training_185\n",
      "Saving file : BraTS20_Training_185\n",
      "Processing File : BraTS20_Training_186\n",
      "Saving file : BraTS20_Training_186\n",
      "Processing File : BraTS20_Training_187\n",
      "Saving file : BraTS20_Training_187\n",
      "Processing File : BraTS20_Training_188\n",
      "Saving file : BraTS20_Training_188\n",
      "Processing File : BraTS20_Training_189\n",
      "Saving file : BraTS20_Training_189\n",
      "Processing File : BraTS20_Training_190\n",
      "Saving file : BraTS20_Training_190\n",
      "Processing File : BraTS20_Training_191\n",
      "Saving file : BraTS20_Training_191\n",
      "Processing File : BraTS20_Training_192\n",
      "Saving file : BraTS20_Training_192\n",
      "Processing File : BraTS20_Training_193\n",
      "Saving file : BraTS20_Training_193\n",
      "Processing File : BraTS20_Training_194\n",
      "Saving file : BraTS20_Training_194\n",
      "Processing File : BraTS20_Training_195\n",
      "Saving file : BraTS20_Training_195\n",
      "Processing File : BraTS20_Training_196\n",
      "Saving file : BraTS20_Training_196\n",
      "Processing File : BraTS20_Training_197\n",
      "Saving file : BraTS20_Training_197\n",
      "Processing File : BraTS20_Training_198\n",
      "Saving file : BraTS20_Training_198\n",
      "Processing File : BraTS20_Training_199\n",
      "Saving file : BraTS20_Training_199\n",
      "Processing File : BraTS20_Training_200\n",
      "Saving file : BraTS20_Training_200\n",
      "Processing File : BraTS20_Training_201\n",
      "Saving file : BraTS20_Training_201\n",
      "Processing File : BraTS20_Training_202\n",
      "Saving file : BraTS20_Training_202\n",
      "Processing File : BraTS20_Training_203\n",
      "Saving file : BraTS20_Training_203\n",
      "Processing File : BraTS20_Training_204\n",
      "Saving file : BraTS20_Training_204\n",
      "Processing File : BraTS20_Training_205\n",
      "Saving file : BraTS20_Training_205\n",
      "Processing File : BraTS20_Training_206\n",
      "Saving file : BraTS20_Training_206\n",
      "Processing File : BraTS20_Training_207\n",
      "Saving file : BraTS20_Training_207\n",
      "Processing File : BraTS20_Training_208\n",
      "Saving file : BraTS20_Training_208\n",
      "Processing File : BraTS20_Training_209\n",
      "Saving file : BraTS20_Training_209\n",
      "Processing File : BraTS20_Training_210\n",
      "Saving file : BraTS20_Training_210\n",
      "Processing File : BraTS20_Training_211\n",
      "Saving file : BraTS20_Training_211\n",
      "Processing File : BraTS20_Training_212\n",
      "Saving file : BraTS20_Training_212\n",
      "Processing File : BraTS20_Training_213\n",
      "Saving file : BraTS20_Training_213\n",
      "Processing File : BraTS20_Training_214\n",
      "Saving file : BraTS20_Training_214\n",
      "Processing File : BraTS20_Training_215\n",
      "Saving file : BraTS20_Training_215\n",
      "Processing File : BraTS20_Training_216\n",
      "Saving file : BraTS20_Training_216\n",
      "Processing File : BraTS20_Training_217\n",
      "Saving file : BraTS20_Training_217\n",
      "Processing File : BraTS20_Training_218\n",
      "Saving file : BraTS20_Training_218\n",
      "Processing File : BraTS20_Training_219\n",
      "Saving file : BraTS20_Training_219\n",
      "Processing File : BraTS20_Training_220\n",
      "Saving file : BraTS20_Training_220\n",
      "Processing File : BraTS20_Training_221\n",
      "Saving file : BraTS20_Training_221\n",
      "Processing File : BraTS20_Training_222\n",
      "Saving file : BraTS20_Training_222\n",
      "Processing File : BraTS20_Training_223\n",
      "Saving file : BraTS20_Training_223\n",
      "Processing File : BraTS20_Training_224\n",
      "Saving file : BraTS20_Training_224\n",
      "Processing File : BraTS20_Training_225\n",
      "Saving file : BraTS20_Training_225\n",
      "Processing File : BraTS20_Training_226\n",
      "Saving file : BraTS20_Training_226\n",
      "Processing File : BraTS20_Training_227\n",
      "Saving file : BraTS20_Training_227\n",
      "Processing File : BraTS20_Training_228\n",
      "Saving file : BraTS20_Training_228\n",
      "Processing File : BraTS20_Training_229\n",
      "Saving file : BraTS20_Training_229\n",
      "Processing File : BraTS20_Training_230\n",
      "Saving file : BraTS20_Training_230\n",
      "Processing File : BraTS20_Training_231\n",
      "Saving file : BraTS20_Training_231\n",
      "Processing File : BraTS20_Training_232\n",
      "Saving file : BraTS20_Training_232\n",
      "Processing File : BraTS20_Training_233\n",
      "Saving file : BraTS20_Training_233\n",
      "Processing File : BraTS20_Training_234\n",
      "Saving file : BraTS20_Training_234\n",
      "Processing File : BraTS20_Training_235\n",
      "Saving file : BraTS20_Training_235\n",
      "Processing File : BraTS20_Training_236\n",
      "Saving file : BraTS20_Training_236\n",
      "Processing File : BraTS20_Training_237\n",
      "Saving file : BraTS20_Training_237\n",
      "Processing File : BraTS20_Training_238\n",
      "Saving file : BraTS20_Training_238\n",
      "Processing File : BraTS20_Training_239\n",
      "Saving file : BraTS20_Training_239\n",
      "Processing File : BraTS20_Training_240\n",
      "Saving file : BraTS20_Training_240\n",
      "Processing File : BraTS20_Training_241\n",
      "Saving file : BraTS20_Training_241\n",
      "Processing File : BraTS20_Training_242\n",
      "Saving file : BraTS20_Training_242\n",
      "Processing File : BraTS20_Training_243\n",
      "Saving file : BraTS20_Training_243\n",
      "Processing File : BraTS20_Training_244\n",
      "Saving file : BraTS20_Training_244\n",
      "Processing File : BraTS20_Training_245\n",
      "Saving file : BraTS20_Training_245\n",
      "Processing File : BraTS20_Training_246\n",
      "Saving file : BraTS20_Training_246\n",
      "Processing File : BraTS20_Training_247\n",
      "Saving file : BraTS20_Training_247\n",
      "Processing File : BraTS20_Training_248\n",
      "Saving file : BraTS20_Training_248\n",
      "Processing File : BraTS20_Training_249\n",
      "Saving file : BraTS20_Training_249\n",
      "Processing File : BraTS20_Training_250\n",
      "Saving file : BraTS20_Training_250\n",
      "Processing File : BraTS20_Training_251\n",
      "Saving file : BraTS20_Training_251\n",
      "Processing File : BraTS20_Training_252\n",
      "Saving file : BraTS20_Training_252\n",
      "Processing File : BraTS20_Training_253\n",
      "Saving file : BraTS20_Training_253\n",
      "Processing File : BraTS20_Training_254\n",
      "Saving file : BraTS20_Training_254\n",
      "Processing File : BraTS20_Training_255\n",
      "Saving file : BraTS20_Training_255\n",
      "Processing File : BraTS20_Training_256\n",
      "Saving file : BraTS20_Training_256\n",
      "Processing File : BraTS20_Training_257\n",
      "Saving file : BraTS20_Training_257\n",
      "Processing File : BraTS20_Training_258\n",
      "Saving file : BraTS20_Training_258\n",
      "Processing File : BraTS20_Training_259\n",
      "Saving file : BraTS20_Training_259\n",
      "Processing File : BraTS20_Training_260\n",
      "Saving file : BraTS20_Training_260\n",
      "Processing File : BraTS20_Training_261\n",
      "Saving file : BraTS20_Training_261\n",
      "Processing File : BraTS20_Training_262\n",
      "Saving file : BraTS20_Training_262\n",
      "Processing File : BraTS20_Training_263\n",
      "Saving file : BraTS20_Training_263\n",
      "Processing File : BraTS20_Training_264\n",
      "Saving file : BraTS20_Training_264\n",
      "Processing File : BraTS20_Training_265\n",
      "Saving file : BraTS20_Training_265\n",
      "Processing File : BraTS20_Training_266\n",
      "Saving file : BraTS20_Training_266\n",
      "Processing File : BraTS20_Training_267\n",
      "Saving file : BraTS20_Training_267\n",
      "Processing File : BraTS20_Training_268\n",
      "Saving file : BraTS20_Training_268\n",
      "Processing File : BraTS20_Training_269\n",
      "Saving file : BraTS20_Training_269\n",
      "Processing File : BraTS20_Training_270\n",
      "Saving file : BraTS20_Training_270\n",
      "Processing File : BraTS20_Training_271\n",
      "Saving file : BraTS20_Training_271\n",
      "Processing File : BraTS20_Training_272\n",
      "Saving file : BraTS20_Training_272\n",
      "Processing File : BraTS20_Training_273\n",
      "Saving file : BraTS20_Training_273\n",
      "Processing File : BraTS20_Training_274\n",
      "Saving file : BraTS20_Training_274\n",
      "Processing File : BraTS20_Training_275\n",
      "Saving file : BraTS20_Training_275\n",
      "Processing File : BraTS20_Training_276\n",
      "Saving file : BraTS20_Training_276\n",
      "Processing File : BraTS20_Training_277\n",
      "Saving file : BraTS20_Training_277\n",
      "Processing File : BraTS20_Training_278\n",
      "Saving file : BraTS20_Training_278\n",
      "Processing File : BraTS20_Training_279\n",
      "Saving file : BraTS20_Training_279\n",
      "Processing File : BraTS20_Training_280\n",
      "Saving file : BraTS20_Training_280\n",
      "Processing File : BraTS20_Training_281\n",
      "Saving file : BraTS20_Training_281\n",
      "Processing File : BraTS20_Training_282\n",
      "Saving file : BraTS20_Training_282\n",
      "Processing File : BraTS20_Training_283\n",
      "Saving file : BraTS20_Training_283\n",
      "Processing File : BraTS20_Training_284\n",
      "Saving file : BraTS20_Training_284\n",
      "Processing File : BraTS20_Training_285\n",
      "Saving file : BraTS20_Training_285\n",
      "Processing File : BraTS20_Training_286\n",
      "Saving file : BraTS20_Training_286\n",
      "Processing File : BraTS20_Training_287\n",
      "Saving file : BraTS20_Training_287\n",
      "Processing File : BraTS20_Training_288\n",
      "Saving file : BraTS20_Training_288\n",
      "Processing File : BraTS20_Training_289\n",
      "Saving file : BraTS20_Training_289\n",
      "Processing File : BraTS20_Training_290\n",
      "Saving file : BraTS20_Training_290\n",
      "Processing File : BraTS20_Training_291\n",
      "Saving file : BraTS20_Training_291\n",
      "Processing File : BraTS20_Training_292\n",
      "Saving file : BraTS20_Training_292\n",
      "Processing File : BraTS20_Training_293\n",
      "Saving file : BraTS20_Training_293\n",
      "Processing File : BraTS20_Training_294\n",
      "Saving file : BraTS20_Training_294\n",
      "Processing File : BraTS20_Training_295\n",
      "Saving file : BraTS20_Training_295\n",
      "Processing File : BraTS20_Training_296\n",
      "Saving file : BraTS20_Training_296\n",
      "Processing File : BraTS20_Training_297\n",
      "Saving file : BraTS20_Training_297\n",
      "Processing File : BraTS20_Training_298\n",
      "Saving file : BraTS20_Training_298\n",
      "Processing File : BraTS20_Training_299\n",
      "Saving file : BraTS20_Training_299\n",
      "Processing File : BraTS20_Training_300\n",
      "Saving file : BraTS20_Training_300\n",
      "Processing File : BraTS20_Training_301\n",
      "Saving file : BraTS20_Training_301\n",
      "Processing File : BraTS20_Training_302\n",
      "Saving file : BraTS20_Training_302\n",
      "Processing File : BraTS20_Training_303\n",
      "Saving file : BraTS20_Training_303\n",
      "Processing File : BraTS20_Training_304\n",
      "Saving file : BraTS20_Training_304\n",
      "Processing File : BraTS20_Training_305\n",
      "Saving file : BraTS20_Training_305\n",
      "Processing File : BraTS20_Training_306\n",
      "Saving file : BraTS20_Training_306\n",
      "Processing File : BraTS20_Training_307\n",
      "Saving file : BraTS20_Training_307\n",
      "Processing File : BraTS20_Training_308\n",
      "Saving file : BraTS20_Training_308\n",
      "Processing File : BraTS20_Training_309\n",
      "Saving file : BraTS20_Training_309\n",
      "Processing File : BraTS20_Training_310\n",
      "Saving file : BraTS20_Training_310\n",
      "Processing File : BraTS20_Training_311\n",
      "Saving file : BraTS20_Training_311\n",
      "Processing File : BraTS20_Training_312\n",
      "Saving file : BraTS20_Training_312\n",
      "Processing File : BraTS20_Training_313\n",
      "Saving file : BraTS20_Training_313\n",
      "Processing File : BraTS20_Training_314\n",
      "Saving file : BraTS20_Training_314\n",
      "Processing File : BraTS20_Training_315\n",
      "Saving file : BraTS20_Training_315\n",
      "Processing File : BraTS20_Training_316\n",
      "Saving file : BraTS20_Training_316\n",
      "Processing File : BraTS20_Training_317\n",
      "Saving file : BraTS20_Training_317\n",
      "Processing File : BraTS20_Training_318\n",
      "Saving file : BraTS20_Training_318\n",
      "Processing File : BraTS20_Training_319\n",
      "Saving file : BraTS20_Training_319\n",
      "Processing File : BraTS20_Training_320\n",
      "Saving file : BraTS20_Training_320\n",
      "Processing File : BraTS20_Training_321\n",
      "Saving file : BraTS20_Training_321\n",
      "Processing File : BraTS20_Training_322\n",
      "Saving file : BraTS20_Training_322\n",
      "Processing File : BraTS20_Training_323\n",
      "Saving file : BraTS20_Training_323\n",
      "Processing File : BraTS20_Training_324\n",
      "Saving file : BraTS20_Training_324\n",
      "Processing File : BraTS20_Training_325\n",
      "Saving file : BraTS20_Training_325\n",
      "Processing File : BraTS20_Training_326\n",
      "Saving file : BraTS20_Training_326\n",
      "Processing File : BraTS20_Training_327\n",
      "Saving file : BraTS20_Training_327\n",
      "Processing File : BraTS20_Training_328\n",
      "Saving file : BraTS20_Training_328\n",
      "Processing File : BraTS20_Training_329\n",
      "Saving file : BraTS20_Training_329\n",
      "Processing File : BraTS20_Training_330\n",
      "Saving file : BraTS20_Training_330\n",
      "Processing File : BraTS20_Training_331\n",
      "Saving file : BraTS20_Training_331\n",
      "Processing File : BraTS20_Training_332\n",
      "Saving file : BraTS20_Training_332\n",
      "Processing File : BraTS20_Training_333\n",
      "Saving file : BraTS20_Training_333\n",
      "Processing File : BraTS20_Training_334\n",
      "Saving file : BraTS20_Training_334\n",
      "Processing File : BraTS20_Training_335\n",
      "Saving file : BraTS20_Training_335\n",
      "Processing File : BraTS20_Training_336\n",
      "Saving file : BraTS20_Training_336\n",
      "Processing File : BraTS20_Training_337\n",
      "Saving file : BraTS20_Training_337\n",
      "Processing File : BraTS20_Training_338\n",
      "Saving file : BraTS20_Training_338\n",
      "Processing File : BraTS20_Training_339\n",
      "Saving file : BraTS20_Training_339\n",
      "Processing File : BraTS20_Training_340\n",
      "Saving file : BraTS20_Training_340\n",
      "Processing File : BraTS20_Training_341\n",
      "Saving file : BraTS20_Training_341\n",
      "Processing File : BraTS20_Training_342\n",
      "Saving file : BraTS20_Training_342\n",
      "Processing File : BraTS20_Training_343\n",
      "Saving file : BraTS20_Training_343\n",
      "Processing File : BraTS20_Training_344\n",
      "Saving file : BraTS20_Training_344\n",
      "Processing File : BraTS20_Training_345\n",
      "Saving file : BraTS20_Training_345\n",
      "Processing File : BraTS20_Training_346\n",
      "Saving file : BraTS20_Training_346\n",
      "Processing File : BraTS20_Training_347\n",
      "Saving file : BraTS20_Training_347\n",
      "Processing File : BraTS20_Training_348\n",
      "Saving file : BraTS20_Training_348\n",
      "Processing File : BraTS20_Training_349\n",
      "Saving file : BraTS20_Training_349\n",
      "Processing File : BraTS20_Training_350\n",
      "Saving file : BraTS20_Training_350\n",
      "Processing File : BraTS20_Training_351\n",
      "Saving file : BraTS20_Training_351\n",
      "Processing File : BraTS20_Training_352\n",
      "Saving file : BraTS20_Training_352\n",
      "Processing File : BraTS20_Training_353\n",
      "Saving file : BraTS20_Training_353\n",
      "Processing File : BraTS20_Training_354\n",
      "Saving file : BraTS20_Training_354\n",
      "Processing File : BraTS20_Training_355\n",
      "Saving file : BraTS20_Training_355\n",
      "Processing File : BraTS20_Training_356\n",
      "Saving file : BraTS20_Training_356\n",
      "Processing File : BraTS20_Training_357\n",
      "Saving file : BraTS20_Training_357\n",
      "Processing File : BraTS20_Training_358\n",
      "Saving file : BraTS20_Training_358\n",
      "Processing File : BraTS20_Training_359\n",
      "Saving file : BraTS20_Training_359\n",
      "Processing File : BraTS20_Training_360\n",
      "Saving file : BraTS20_Training_360\n",
      "Processing File : BraTS20_Training_361\n",
      "Saving file : BraTS20_Training_361\n",
      "Processing File : BraTS20_Training_362\n",
      "Saving file : BraTS20_Training_362\n",
      "Processing File : BraTS20_Training_363\n",
      "Saving file : BraTS20_Training_363\n",
      "Processing File : BraTS20_Training_364\n",
      "Saving file : BraTS20_Training_364\n",
      "Processing File : BraTS20_Training_365\n",
      "Saving file : BraTS20_Training_365\n",
      "Processing File : BraTS20_Training_366\n",
      "Saving file : BraTS20_Training_366\n",
      "Processing File : BraTS20_Training_367\n",
      "Saving file : BraTS20_Training_367\n",
      "Processing File : BraTS20_Training_368\n",
      "Saving file : BraTS20_Training_368\n",
      "Processing File : BraTS20_Training_369\n",
      "Saving file : BraTS20_Training_369\n"
     ]
    }
   ],
   "source": [
    "print(f\"Processing Images\")\n",
    "for flair, t1, t1ce, t2 in zip(TRAIN_IMAGES_FLAIR, TRAIN_IMAGES_T1, TRAIN_IMAGES_T1CE, TRAIN_IMAGES_T2):\n",
    "    file_name = os.path.splitext(flair.split('/')[-1])[0].replace('_flair', '')\n",
    "    print(f\"Processing File : {file_name}\")\n",
    "    img_data = combine_modality(flair, t1, t1ce, t2)\n",
    "    all_zeros = not np.any(img_data)\n",
    "    if not all_zeros:\n",
    "        print(f\"Saving file : {file_name}\")\n",
    "        save_img(img_data, file_name)\n",
    "    #break"
   ]
  },
  {
   "cell_type": "code",
   "execution_count": null,
   "id": "0c03a273",
   "metadata": {
    "id": "0c03a273",
    "outputId": "ae95c80b-d9ab-469d-b86a-606a34e62f5f"
   },
   "outputs": [
    {
     "name": "stdout",
     "output_type": "stream",
     "text": [
      "Processing Segmentation Mask\n",
      "Processing File : BraTS20_Training_001_seg\n",
      "Processing File : BraTS20_Training_002_seg\n",
      "Processing File : BraTS20_Training_003_seg\n",
      "Processing File : BraTS20_Training_004_seg\n",
      "Processing File : BraTS20_Training_005_seg\n",
      "Processing File : BraTS20_Training_006_seg\n",
      "Processing File : BraTS20_Training_007_seg\n",
      "Processing File : BraTS20_Training_008_seg\n",
      "Processing File : BraTS20_Training_009_seg\n",
      "Processing File : BraTS20_Training_010_seg\n",
      "Processing File : BraTS20_Training_011_seg\n",
      "Processing File : BraTS20_Training_012_seg\n",
      "Processing File : BraTS20_Training_013_seg\n",
      "Processing File : BraTS20_Training_014_seg\n",
      "Processing File : BraTS20_Training_015_seg\n",
      "Processing File : BraTS20_Training_016_seg\n",
      "Processing File : BraTS20_Training_017_seg\n",
      "Processing File : BraTS20_Training_018_seg\n",
      "Processing File : BraTS20_Training_019_seg\n",
      "Processing File : BraTS20_Training_020_seg\n",
      "Processing File : BraTS20_Training_021_seg\n",
      "Processing File : BraTS20_Training_022_seg\n",
      "Processing File : BraTS20_Training_023_seg\n",
      "Processing File : BraTS20_Training_024_seg\n",
      "Processing File : BraTS20_Training_025_seg\n",
      "Processing File : BraTS20_Training_026_seg\n",
      "Processing File : BraTS20_Training_027_seg\n",
      "Processing File : BraTS20_Training_028_seg\n",
      "Processing File : BraTS20_Training_029_seg\n",
      "Processing File : BraTS20_Training_030_seg\n",
      "Processing File : BraTS20_Training_031_seg\n",
      "Processing File : BraTS20_Training_032_seg\n",
      "Processing File : BraTS20_Training_033_seg\n",
      "Processing File : BraTS20_Training_034_seg\n",
      "Processing File : BraTS20_Training_035_seg\n",
      "Processing File : BraTS20_Training_036_seg\n",
      "Processing File : BraTS20_Training_037_seg\n",
      "Processing File : BraTS20_Training_038_seg\n",
      "Processing File : BraTS20_Training_039_seg\n",
      "Processing File : BraTS20_Training_040_seg\n",
      "Processing File : BraTS20_Training_041_seg\n",
      "Processing File : BraTS20_Training_042_seg\n",
      "Processing File : BraTS20_Training_043_seg\n",
      "Processing File : BraTS20_Training_044_seg\n",
      "Processing File : BraTS20_Training_045_seg\n",
      "Processing File : BraTS20_Training_046_seg\n",
      "Processing File : BraTS20_Training_047_seg\n",
      "Processing File : BraTS20_Training_048_seg\n",
      "Processing File : BraTS20_Training_049_seg\n",
      "Processing File : BraTS20_Training_050_seg\n",
      "Processing File : BraTS20_Training_051_seg\n",
      "Processing File : BraTS20_Training_052_seg\n",
      "Processing File : BraTS20_Training_053_seg\n",
      "Processing File : BraTS20_Training_054_seg\n",
      "Processing File : BraTS20_Training_055_seg\n",
      "Processing File : BraTS20_Training_056_seg\n",
      "Processing File : BraTS20_Training_057_seg\n",
      "Processing File : BraTS20_Training_058_seg\n",
      "Processing File : BraTS20_Training_059_seg\n",
      "Processing File : BraTS20_Training_060_seg\n",
      "Processing File : BraTS20_Training_061_seg\n",
      "Processing File : BraTS20_Training_062_seg\n",
      "Processing File : BraTS20_Training_063_seg\n",
      "Processing File : BraTS20_Training_064_seg\n",
      "Processing File : BraTS20_Training_065_seg\n",
      "Processing File : BraTS20_Training_066_seg\n",
      "Processing File : BraTS20_Training_067_seg\n",
      "Processing File : BraTS20_Training_068_seg\n",
      "Processing File : BraTS20_Training_069_seg\n",
      "Processing File : BraTS20_Training_070_seg\n",
      "Processing File : BraTS20_Training_071_seg\n",
      "Processing File : BraTS20_Training_072_seg\n",
      "Processing File : BraTS20_Training_073_seg\n",
      "Processing File : BraTS20_Training_074_seg\n",
      "Processing File : BraTS20_Training_075_seg\n",
      "Processing File : BraTS20_Training_076_seg\n",
      "Processing File : BraTS20_Training_077_seg\n",
      "Processing File : BraTS20_Training_078_seg\n",
      "Processing File : BraTS20_Training_079_seg\n",
      "Processing File : BraTS20_Training_080_seg\n",
      "Processing File : BraTS20_Training_081_seg\n",
      "Processing File : BraTS20_Training_082_seg\n",
      "Processing File : BraTS20_Training_083_seg\n",
      "Processing File : BraTS20_Training_084_seg\n",
      "Processing File : BraTS20_Training_085_seg\n",
      "Processing File : BraTS20_Training_086_seg\n",
      "Processing File : BraTS20_Training_087_seg\n",
      "Processing File : BraTS20_Training_088_seg\n",
      "Processing File : BraTS20_Training_089_seg\n",
      "Processing File : BraTS20_Training_090_seg\n",
      "Processing File : BraTS20_Training_091_seg\n",
      "Processing File : BraTS20_Training_092_seg\n",
      "Processing File : BraTS20_Training_093_seg\n",
      "Processing File : BraTS20_Training_094_seg\n",
      "Processing File : BraTS20_Training_095_seg\n",
      "Processing File : BraTS20_Training_096_seg\n",
      "Processing File : BraTS20_Training_097_seg\n",
      "Processing File : BraTS20_Training_098_seg\n",
      "Processing File : BraTS20_Training_099_seg\n",
      "Processing File : BraTS20_Training_100_seg\n",
      "Processing File : BraTS20_Training_101_seg\n",
      "Processing File : BraTS20_Training_102_seg\n",
      "Processing File : BraTS20_Training_103_seg\n",
      "Processing File : BraTS20_Training_104_seg\n",
      "Processing File : BraTS20_Training_105_seg\n",
      "Processing File : BraTS20_Training_106_seg\n",
      "Processing File : BraTS20_Training_107_seg\n",
      "Processing File : BraTS20_Training_108_seg\n",
      "Processing File : BraTS20_Training_109_seg\n",
      "Processing File : BraTS20_Training_110_seg\n",
      "Processing File : BraTS20_Training_111_seg\n",
      "Processing File : BraTS20_Training_112_seg\n",
      "Processing File : BraTS20_Training_113_seg\n",
      "Processing File : BraTS20_Training_114_seg\n",
      "Processing File : BraTS20_Training_115_seg\n",
      "Processing File : BraTS20_Training_116_seg\n",
      "Processing File : BraTS20_Training_117_seg\n",
      "Processing File : BraTS20_Training_118_seg\n",
      "Processing File : BraTS20_Training_119_seg\n",
      "Processing File : BraTS20_Training_120_seg\n",
      "Processing File : BraTS20_Training_121_seg\n",
      "Processing File : BraTS20_Training_122_seg\n",
      "Processing File : BraTS20_Training_123_seg\n",
      "Processing File : BraTS20_Training_124_seg\n",
      "Processing File : BraTS20_Training_125_seg\n",
      "Processing File : BraTS20_Training_126_seg\n",
      "Processing File : BraTS20_Training_127_seg\n",
      "Processing File : BraTS20_Training_128_seg\n",
      "Processing File : BraTS20_Training_129_seg\n",
      "Processing File : BraTS20_Training_130_seg\n",
      "Processing File : BraTS20_Training_131_seg\n",
      "Processing File : BraTS20_Training_132_seg\n",
      "Processing File : BraTS20_Training_133_seg\n",
      "Processing File : BraTS20_Training_134_seg\n",
      "Processing File : BraTS20_Training_135_seg\n",
      "Processing File : BraTS20_Training_136_seg\n",
      "Processing File : BraTS20_Training_137_seg\n",
      "Processing File : BraTS20_Training_138_seg\n",
      "Processing File : BraTS20_Training_139_seg\n",
      "Processing File : BraTS20_Training_140_seg\n",
      "Processing File : BraTS20_Training_141_seg\n",
      "Processing File : BraTS20_Training_142_seg\n",
      "Processing File : BraTS20_Training_143_seg\n",
      "Processing File : BraTS20_Training_144_seg\n",
      "Processing File : BraTS20_Training_145_seg\n",
      "Processing File : BraTS20_Training_146_seg\n",
      "Processing File : BraTS20_Training_147_seg\n",
      "Processing File : BraTS20_Training_148_seg\n",
      "Processing File : BraTS20_Training_149_seg\n",
      "Processing File : BraTS20_Training_150_seg\n",
      "Processing File : BraTS20_Training_151_seg\n",
      "Processing File : BraTS20_Training_152_seg\n",
      "Processing File : BraTS20_Training_153_seg\n",
      "Processing File : BraTS20_Training_154_seg\n",
      "Processing File : BraTS20_Training_155_seg\n",
      "Processing File : BraTS20_Training_156_seg\n",
      "Processing File : BraTS20_Training_157_seg\n",
      "Processing File : BraTS20_Training_158_seg\n",
      "Processing File : BraTS20_Training_159_seg\n",
      "Processing File : BraTS20_Training_160_seg\n",
      "Processing File : BraTS20_Training_161_seg\n",
      "Processing File : BraTS20_Training_162_seg\n",
      "Processing File : BraTS20_Training_163_seg\n",
      "Processing File : BraTS20_Training_164_seg\n",
      "Processing File : BraTS20_Training_165_seg\n",
      "Processing File : BraTS20_Training_166_seg\n",
      "Processing File : BraTS20_Training_167_seg\n",
      "Processing File : BraTS20_Training_168_seg\n",
      "Processing File : BraTS20_Training_169_seg\n",
      "Processing File : BraTS20_Training_170_seg\n",
      "Processing File : BraTS20_Training_171_seg\n",
      "Processing File : BraTS20_Training_172_seg\n",
      "Processing File : BraTS20_Training_173_seg\n",
      "Processing File : BraTS20_Training_174_seg\n",
      "Processing File : BraTS20_Training_175_seg\n",
      "Processing File : BraTS20_Training_176_seg\n",
      "Processing File : BraTS20_Training_177_seg\n",
      "Processing File : BraTS20_Training_178_seg\n",
      "Processing File : BraTS20_Training_179_seg\n",
      "Processing File : BraTS20_Training_180_seg\n",
      "Processing File : BraTS20_Training_181_seg\n",
      "Processing File : BraTS20_Training_182_seg\n",
      "Processing File : BraTS20_Training_183_seg\n",
      "Processing File : BraTS20_Training_184_seg\n",
      "Processing File : BraTS20_Training_185_seg\n",
      "Processing File : BraTS20_Training_186_seg\n",
      "Processing File : BraTS20_Training_187_seg\n",
      "Processing File : BraTS20_Training_188_seg\n",
      "Processing File : BraTS20_Training_189_seg\n",
      "Processing File : BraTS20_Training_190_seg\n",
      "Processing File : BraTS20_Training_191_seg\n",
      "Processing File : BraTS20_Training_192_seg\n",
      "Processing File : BraTS20_Training_193_seg\n",
      "Processing File : BraTS20_Training_194_seg\n",
      "Processing File : BraTS20_Training_195_seg\n",
      "Processing File : BraTS20_Training_196_seg\n",
      "Processing File : BraTS20_Training_197_seg\n",
      "Processing File : BraTS20_Training_198_seg\n",
      "Processing File : BraTS20_Training_199_seg\n",
      "Processing File : BraTS20_Training_200_seg\n",
      "Processing File : BraTS20_Training_201_seg\n",
      "Processing File : BraTS20_Training_202_seg\n",
      "Processing File : BraTS20_Training_203_seg\n",
      "Processing File : BraTS20_Training_204_seg\n",
      "Processing File : BraTS20_Training_205_seg\n",
      "Processing File : BraTS20_Training_206_seg\n",
      "Processing File : BraTS20_Training_207_seg\n",
      "Processing File : BraTS20_Training_208_seg\n",
      "Processing File : BraTS20_Training_209_seg\n",
      "Processing File : BraTS20_Training_210_seg\n",
      "Processing File : BraTS20_Training_211_seg\n",
      "Processing File : BraTS20_Training_212_seg\n",
      "Processing File : BraTS20_Training_213_seg\n",
      "Processing File : BraTS20_Training_214_seg\n",
      "Processing File : BraTS20_Training_215_seg\n",
      "Processing File : BraTS20_Training_216_seg\n",
      "Processing File : BraTS20_Training_217_seg\n",
      "Processing File : BraTS20_Training_218_seg\n",
      "Processing File : BraTS20_Training_219_seg\n",
      "Processing File : BraTS20_Training_220_seg\n",
      "Processing File : BraTS20_Training_221_seg\n",
      "Processing File : BraTS20_Training_222_seg\n",
      "Processing File : BraTS20_Training_223_seg\n",
      "Processing File : BraTS20_Training_224_seg\n",
      "Processing File : BraTS20_Training_225_seg\n",
      "Processing File : BraTS20_Training_226_seg\n",
      "Processing File : BraTS20_Training_227_seg\n",
      "Processing File : BraTS20_Training_228_seg\n",
      "Processing File : BraTS20_Training_229_seg\n",
      "Processing File : BraTS20_Training_230_seg\n",
      "Processing File : BraTS20_Training_231_seg\n",
      "Processing File : BraTS20_Training_232_seg\n",
      "Processing File : BraTS20_Training_233_seg\n",
      "Processing File : BraTS20_Training_234_seg\n",
      "Processing File : BraTS20_Training_235_seg\n",
      "Processing File : BraTS20_Training_236_seg\n",
      "Processing File : BraTS20_Training_237_seg\n",
      "Processing File : BraTS20_Training_238_seg\n",
      "Processing File : BraTS20_Training_239_seg\n",
      "Processing File : BraTS20_Training_240_seg\n",
      "Processing File : BraTS20_Training_241_seg\n",
      "Processing File : BraTS20_Training_242_seg\n",
      "Processing File : BraTS20_Training_243_seg\n",
      "Processing File : BraTS20_Training_244_seg\n",
      "Processing File : BraTS20_Training_245_seg\n",
      "Processing File : BraTS20_Training_246_seg\n",
      "Processing File : BraTS20_Training_247_seg\n",
      "Processing File : BraTS20_Training_248_seg\n",
      "Processing File : BraTS20_Training_249_seg\n",
      "Processing File : BraTS20_Training_250_seg\n",
      "Processing File : BraTS20_Training_251_seg\n",
      "Processing File : BraTS20_Training_252_seg\n",
      "Processing File : BraTS20_Training_253_seg\n",
      "Processing File : BraTS20_Training_254_seg\n",
      "Processing File : BraTS20_Training_255_seg\n",
      "Processing File : BraTS20_Training_256_seg\n",
      "Processing File : BraTS20_Training_257_seg\n",
      "Processing File : BraTS20_Training_258_seg\n",
      "Processing File : BraTS20_Training_259_seg\n",
      "Processing File : BraTS20_Training_260_seg\n",
      "Processing File : BraTS20_Training_261_seg\n",
      "Processing File : BraTS20_Training_262_seg\n",
      "Processing File : BraTS20_Training_263_seg\n",
      "Processing File : BraTS20_Training_264_seg\n",
      "Processing File : BraTS20_Training_265_seg\n",
      "Processing File : BraTS20_Training_266_seg\n",
      "Processing File : BraTS20_Training_267_seg\n",
      "Processing File : BraTS20_Training_268_seg\n",
      "Processing File : BraTS20_Training_269_seg\n",
      "Processing File : BraTS20_Training_270_seg\n",
      "Processing File : BraTS20_Training_271_seg\n",
      "Processing File : BraTS20_Training_272_seg\n",
      "Processing File : BraTS20_Training_273_seg\n",
      "Processing File : BraTS20_Training_274_seg\n",
      "Processing File : BraTS20_Training_275_seg\n",
      "Processing File : BraTS20_Training_276_seg\n",
      "Processing File : BraTS20_Training_277_seg\n",
      "Processing File : BraTS20_Training_278_seg\n",
      "Processing File : BraTS20_Training_279_seg\n",
      "Processing File : BraTS20_Training_280_seg\n",
      "Processing File : BraTS20_Training_281_seg\n",
      "Processing File : BraTS20_Training_282_seg\n",
      "Processing File : BraTS20_Training_283_seg\n",
      "Processing File : BraTS20_Training_284_seg\n",
      "Processing File : BraTS20_Training_285_seg\n",
      "Processing File : BraTS20_Training_286_seg\n",
      "Processing File : BraTS20_Training_287_seg\n",
      "Processing File : BraTS20_Training_288_seg\n",
      "Processing File : BraTS20_Training_289_seg\n",
      "Processing File : BraTS20_Training_290_seg\n",
      "Processing File : BraTS20_Training_291_seg\n",
      "Processing File : BraTS20_Training_292_seg\n",
      "Processing File : BraTS20_Training_293_seg\n",
      "Processing File : BraTS20_Training_294_seg\n",
      "Processing File : BraTS20_Training_295_seg\n",
      "Processing File : BraTS20_Training_296_seg\n",
      "Processing File : BraTS20_Training_297_seg\n",
      "Processing File : BraTS20_Training_298_seg\n",
      "Processing File : BraTS20_Training_299_seg\n",
      "Processing File : BraTS20_Training_300_seg\n",
      "Processing File : BraTS20_Training_301_seg\n",
      "Processing File : BraTS20_Training_302_seg\n",
      "Processing File : BraTS20_Training_303_seg\n",
      "Processing File : BraTS20_Training_304_seg\n",
      "Processing File : BraTS20_Training_305_seg\n",
      "Processing File : BraTS20_Training_306_seg\n",
      "Processing File : BraTS20_Training_307_seg\n",
      "Processing File : BraTS20_Training_308_seg\n",
      "Processing File : BraTS20_Training_309_seg\n",
      "Processing File : BraTS20_Training_310_seg\n",
      "Processing File : BraTS20_Training_311_seg\n",
      "Processing File : BraTS20_Training_312_seg\n",
      "Processing File : BraTS20_Training_313_seg\n",
      "Processing File : BraTS20_Training_314_seg\n",
      "Processing File : BraTS20_Training_315_seg\n",
      "Processing File : BraTS20_Training_316_seg\n",
      "Processing File : BraTS20_Training_317_seg\n",
      "Processing File : BraTS20_Training_318_seg\n",
      "Processing File : BraTS20_Training_319_seg\n",
      "Processing File : BraTS20_Training_320_seg\n",
      "Processing File : BraTS20_Training_321_seg\n",
      "Processing File : BraTS20_Training_322_seg\n",
      "Processing File : BraTS20_Training_323_seg\n",
      "Processing File : BraTS20_Training_324_seg\n",
      "Processing File : BraTS20_Training_325_seg\n",
      "Processing File : BraTS20_Training_326_seg\n",
      "Processing File : BraTS20_Training_327_seg\n",
      "Processing File : BraTS20_Training_328_seg\n",
      "Processing File : BraTS20_Training_329_seg\n",
      "Processing File : BraTS20_Training_330_seg\n",
      "Processing File : BraTS20_Training_331_seg\n",
      "Processing File : BraTS20_Training_332_seg\n",
      "Processing File : BraTS20_Training_333_seg\n",
      "Processing File : BraTS20_Training_334_seg\n",
      "Processing File : BraTS20_Training_335_seg\n",
      "Processing File : BraTS20_Training_336_seg\n",
      "Processing File : BraTS20_Training_337_seg\n",
      "Processing File : BraTS20_Training_338_seg\n",
      "Processing File : BraTS20_Training_339_seg\n",
      "Processing File : BraTS20_Training_340_seg\n",
      "Processing File : BraTS20_Training_341_seg\n",
      "Processing File : BraTS20_Training_342_seg\n",
      "Processing File : BraTS20_Training_343_seg\n",
      "Processing File : BraTS20_Training_344_seg\n",
      "Processing File : BraTS20_Training_345_seg\n",
      "Processing File : BraTS20_Training_346_seg\n",
      "Processing File : BraTS20_Training_347_seg\n",
      "Processing File : BraTS20_Training_348_seg\n",
      "Processing File : BraTS20_Training_349_seg\n",
      "Processing File : BraTS20_Training_350_seg\n",
      "Processing File : BraTS20_Training_351_seg\n",
      "Processing File : BraTS20_Training_352_seg\n",
      "Processing File : BraTS20_Training_353_seg\n",
      "Processing File : BraTS20_Training_354_seg\n",
      "Processing File : BraTS20_Training_355_seg\n",
      "Processing File : BraTS20_Training_356_seg\n",
      "Processing File : BraTS20_Training_357_seg\n",
      "Processing File : BraTS20_Training_358_seg\n",
      "Processing File : BraTS20_Training_359_seg\n",
      "Processing File : BraTS20_Training_360_seg\n",
      "Processing File : BraTS20_Training_361_seg\n",
      "Processing File : BraTS20_Training_362_seg\n",
      "Processing File : BraTS20_Training_363_seg\n",
      "Processing File : BraTS20_Training_364_seg\n",
      "Processing File : BraTS20_Training_365_seg\n",
      "Processing File : BraTS20_Training_366_seg\n",
      "Processing File : BraTS20_Training_367_seg\n",
      "Processing File : BraTS20_Training_368_seg\n",
      "Processing File : BraTS20_Training_369_seg\n"
     ]
    }
   ],
   "source": [
    "print(f\"Processing Segmentation Mask\")\n",
    "for seg_mask in TRAIN_IMAGES_SEG_MASKS:\n",
    "    file_name = os.path.splitext(seg_mask.split('/')[-1])[0]\n",
    "    print(f\"Processing File : {file_name}\")\n",
    "    img_data = np.transpose(np.asarray(nib.load(seg_mask).dataobj))\n",
    "    save_img(img_data, file_name, mask = True)\n",
    "    #break"
   ]
  },
  {
   "cell_type": "code",
   "execution_count": null,
   "id": "c9bf3d6b",
   "metadata": {
    "id": "c9bf3d6b"
   },
   "outputs": [],
   "source": [
    "DATASET_PATH = os.path.abspath('../data/train/')"
   ]
  },
  {
   "cell_type": "code",
   "execution_count": null,
   "id": "8a93f257",
   "metadata": {
    "id": "8a93f257"
   },
   "outputs": [],
   "source": [
    "IMAGE_PATH = os.path.join(DATASET_PATH, 'images')\n",
    "MASKS_PATH = os.path.join(DATASET_PATH, 'masks')"
   ]
  },
  {
   "cell_type": "code",
   "execution_count": null,
   "id": "d5a64867",
   "metadata": {
    "id": "d5a64867"
   },
   "outputs": [],
   "source": [
    "assert os.path.exists(IMAGE_PATH)"
   ]
  },
  {
   "cell_type": "code",
   "execution_count": null,
   "id": "ca33a52d",
   "metadata": {
    "id": "ca33a52d"
   },
   "outputs": [],
   "source": [
    "assert os.path.exists(MASKS_PATH)"
   ]
  },
  {
   "cell_type": "code",
   "execution_count": null,
   "id": "3b04e6f8",
   "metadata": {
    "id": "3b04e6f8"
   },
   "outputs": [],
   "source": [
    "images = sorted(glob2.glob(IMAGE_PATH + '/*.png'))\n",
    "masks = sorted(glob2.glob(MASKS_PATH + '/*.png'))"
   ]
  },
  {
   "cell_type": "code",
   "execution_count": null,
   "id": "afef491d",
   "metadata": {
    "id": "afef491d",
    "outputId": "596f8fef-c5c0-41ca-889a-f4db0a566ff5"
   },
   "outputs": [
    {
     "data": {
      "text/plain": [
       "57195"
      ]
     },
     "execution_count": 21,
     "metadata": {},
     "output_type": "execute_result"
    }
   ],
   "source": [
    "len(images)"
   ]
  },
  {
   "cell_type": "code",
   "execution_count": null,
   "id": "c6d7768c",
   "metadata": {
    "id": "c6d7768c",
    "outputId": "f3f9576f-4c66-4344-d1d9-6213e3da256f"
   },
   "outputs": [
    {
     "data": {
      "text/plain": [
       "57195"
      ]
     },
     "execution_count": 22,
     "metadata": {},
     "output_type": "execute_result"
    }
   ],
   "source": [
    "len(masks)"
   ]
  },
  {
   "cell_type": "code",
   "execution_count": null,
   "id": "35b31fa3",
   "metadata": {
    "id": "35b31fa3"
   },
   "outputs": [],
   "source": [
    "def get_patient_id(file_path):\n",
    "    return ''.join(item + '_' for item in file_path.split('/')[-1].split('_')[:3])[:-1]"
   ]
  },
  {
   "cell_type": "code",
   "execution_count": null,
   "id": "9982e8af",
   "metadata": {
    "id": "9982e8af"
   },
   "outputs": [],
   "source": [
    "patient_id = []\n",
    "image_path = []\n",
    "mask_path = []\n",
    "\n",
    "for img_item, mask_item in zip(images, masks):\n",
    "    assert get_patient_id(img_item) == get_patient_id(mask_item)\n",
    "    assert os.path.exists(img_item)\n",
    "    assert os.path.exists(mask_item)\n",
    "    #print(get_patient_id(img_item))\n",
    "    patient_id.append(get_patient_id(img_item))\n",
    "    image_path.append(img_item)\n",
    "    mask_path.append(mask_item)"
   ]
  },
  {
   "cell_type": "code",
   "execution_count": null,
   "id": "9df0eb26",
   "metadata": {
    "id": "9df0eb26"
   },
   "outputs": [],
   "source": [
    "df_name_mapping = pd.read_csv(os.path.join(TRAIN_DATASET_PATH, 'name_mapping.csv'))\n",
    "df_survival_info = pd.read_csv(os.path.join(TRAIN_DATASET_PATH, 'survival_info.csv'))"
   ]
  },
  {
   "cell_type": "code",
   "execution_count": null,
   "id": "c4cac399",
   "metadata": {
    "id": "c4cac399",
    "outputId": "f6b46501-954e-4461-be57-6a12506f0f5d"
   },
   "outputs": [
    {
     "data": {
      "text/html": [
       "<div>\n",
       "<style scoped>\n",
       "    .dataframe tbody tr th:only-of-type {\n",
       "        vertical-align: middle;\n",
       "    }\n",
       "\n",
       "    .dataframe tbody tr th {\n",
       "        vertical-align: top;\n",
       "    }\n",
       "\n",
       "    .dataframe thead th {\n",
       "        text-align: right;\n",
       "    }\n",
       "</style>\n",
       "<table border=\"1\" class=\"dataframe\">\n",
       "  <thead>\n",
       "    <tr style=\"text-align: right;\">\n",
       "      <th></th>\n",
       "      <th>Grade</th>\n",
       "      <th>BraTS_2017_subject_ID</th>\n",
       "      <th>BraTS_2018_subject_ID</th>\n",
       "      <th>TCGA_TCIA_subject_ID</th>\n",
       "      <th>BraTS_2019_subject_ID</th>\n",
       "      <th>BraTS_2020_subject_ID</th>\n",
       "    </tr>\n",
       "  </thead>\n",
       "  <tbody>\n",
       "    <tr>\n",
       "      <th>0</th>\n",
       "      <td>HGG</td>\n",
       "      <td>Brats17_CBICA_AAB_1</td>\n",
       "      <td>Brats18_CBICA_AAB_1</td>\n",
       "      <td>NaN</td>\n",
       "      <td>BraTS19_CBICA_AAB_1</td>\n",
       "      <td>BraTS20_Training_001</td>\n",
       "    </tr>\n",
       "    <tr>\n",
       "      <th>1</th>\n",
       "      <td>HGG</td>\n",
       "      <td>Brats17_CBICA_AAG_1</td>\n",
       "      <td>Brats18_CBICA_AAG_1</td>\n",
       "      <td>NaN</td>\n",
       "      <td>BraTS19_CBICA_AAG_1</td>\n",
       "      <td>BraTS20_Training_002</td>\n",
       "    </tr>\n",
       "    <tr>\n",
       "      <th>2</th>\n",
       "      <td>HGG</td>\n",
       "      <td>Brats17_CBICA_AAL_1</td>\n",
       "      <td>Brats18_CBICA_AAL_1</td>\n",
       "      <td>NaN</td>\n",
       "      <td>BraTS19_CBICA_AAL_1</td>\n",
       "      <td>BraTS20_Training_003</td>\n",
       "    </tr>\n",
       "    <tr>\n",
       "      <th>3</th>\n",
       "      <td>HGG</td>\n",
       "      <td>Brats17_CBICA_AAP_1</td>\n",
       "      <td>Brats18_CBICA_AAP_1</td>\n",
       "      <td>NaN</td>\n",
       "      <td>BraTS19_CBICA_AAP_1</td>\n",
       "      <td>BraTS20_Training_004</td>\n",
       "    </tr>\n",
       "    <tr>\n",
       "      <th>4</th>\n",
       "      <td>HGG</td>\n",
       "      <td>Brats17_CBICA_ABB_1</td>\n",
       "      <td>Brats18_CBICA_ABB_1</td>\n",
       "      <td>NaN</td>\n",
       "      <td>BraTS19_CBICA_ABB_1</td>\n",
       "      <td>BraTS20_Training_005</td>\n",
       "    </tr>\n",
       "  </tbody>\n",
       "</table>\n",
       "</div>"
      ],
      "text/plain": [
       "  Grade BraTS_2017_subject_ID BraTS_2018_subject_ID TCGA_TCIA_subject_ID  \\\n",
       "0   HGG   Brats17_CBICA_AAB_1   Brats18_CBICA_AAB_1                  NaN   \n",
       "1   HGG   Brats17_CBICA_AAG_1   Brats18_CBICA_AAG_1                  NaN   \n",
       "2   HGG   Brats17_CBICA_AAL_1   Brats18_CBICA_AAL_1                  NaN   \n",
       "3   HGG   Brats17_CBICA_AAP_1   Brats18_CBICA_AAP_1                  NaN   \n",
       "4   HGG   Brats17_CBICA_ABB_1   Brats18_CBICA_ABB_1                  NaN   \n",
       "\n",
       "  BraTS_2019_subject_ID BraTS_2020_subject_ID  \n",
       "0   BraTS19_CBICA_AAB_1  BraTS20_Training_001  \n",
       "1   BraTS19_CBICA_AAG_1  BraTS20_Training_002  \n",
       "2   BraTS19_CBICA_AAL_1  BraTS20_Training_003  \n",
       "3   BraTS19_CBICA_AAP_1  BraTS20_Training_004  \n",
       "4   BraTS19_CBICA_ABB_1  BraTS20_Training_005  "
      ]
     },
     "execution_count": 27,
     "metadata": {},
     "output_type": "execute_result"
    }
   ],
   "source": [
    "df_name_mapping.head()"
   ]
  },
  {
   "cell_type": "code",
   "execution_count": null,
   "id": "056e5c35",
   "metadata": {
    "id": "056e5c35",
    "outputId": "703f8162-1e5f-4a67-fc09-109ffed44020"
   },
   "outputs": [
    {
     "data": {
      "text/html": [
       "<div>\n",
       "<style scoped>\n",
       "    .dataframe tbody tr th:only-of-type {\n",
       "        vertical-align: middle;\n",
       "    }\n",
       "\n",
       "    .dataframe tbody tr th {\n",
       "        vertical-align: top;\n",
       "    }\n",
       "\n",
       "    .dataframe thead th {\n",
       "        text-align: right;\n",
       "    }\n",
       "</style>\n",
       "<table border=\"1\" class=\"dataframe\">\n",
       "  <thead>\n",
       "    <tr style=\"text-align: right;\">\n",
       "      <th></th>\n",
       "      <th>Brats20ID</th>\n",
       "      <th>Age</th>\n",
       "      <th>Survival_days</th>\n",
       "      <th>Extent_of_Resection</th>\n",
       "    </tr>\n",
       "  </thead>\n",
       "  <tbody>\n",
       "    <tr>\n",
       "      <th>0</th>\n",
       "      <td>BraTS20_Training_001</td>\n",
       "      <td>60.463</td>\n",
       "      <td>289</td>\n",
       "      <td>GTR</td>\n",
       "    </tr>\n",
       "    <tr>\n",
       "      <th>1</th>\n",
       "      <td>BraTS20_Training_002</td>\n",
       "      <td>52.263</td>\n",
       "      <td>616</td>\n",
       "      <td>GTR</td>\n",
       "    </tr>\n",
       "    <tr>\n",
       "      <th>2</th>\n",
       "      <td>BraTS20_Training_003</td>\n",
       "      <td>54.301</td>\n",
       "      <td>464</td>\n",
       "      <td>GTR</td>\n",
       "    </tr>\n",
       "    <tr>\n",
       "      <th>3</th>\n",
       "      <td>BraTS20_Training_004</td>\n",
       "      <td>39.068</td>\n",
       "      <td>788</td>\n",
       "      <td>GTR</td>\n",
       "    </tr>\n",
       "    <tr>\n",
       "      <th>4</th>\n",
       "      <td>BraTS20_Training_005</td>\n",
       "      <td>68.493</td>\n",
       "      <td>465</td>\n",
       "      <td>GTR</td>\n",
       "    </tr>\n",
       "  </tbody>\n",
       "</table>\n",
       "</div>"
      ],
      "text/plain": [
       "              Brats20ID     Age Survival_days Extent_of_Resection\n",
       "0  BraTS20_Training_001  60.463           289                 GTR\n",
       "1  BraTS20_Training_002  52.263           616                 GTR\n",
       "2  BraTS20_Training_003  54.301           464                 GTR\n",
       "3  BraTS20_Training_004  39.068           788                 GTR\n",
       "4  BraTS20_Training_005  68.493           465                 GTR"
      ]
     },
     "execution_count": 28,
     "metadata": {},
     "output_type": "execute_result"
    }
   ],
   "source": [
    "df_survival_info.head()"
   ]
  },
  {
   "cell_type": "code",
   "execution_count": null,
   "id": "a963f089",
   "metadata": {
    "id": "a963f089"
   },
   "outputs": [],
   "source": [
    "df_name_mapping = df_name_mapping[['Grade', 'BraTS_2020_subject_ID']]\n",
    "df_name_mapping.rename(columns={'BraTS_2020_subject_ID': 'PatientID'}, inplace=True)"
   ]
  },
  {
   "cell_type": "code",
   "execution_count": null,
   "id": "ff6e2753",
   "metadata": {
    "id": "ff6e2753"
   },
   "outputs": [],
   "source": [
    "df_final = df_images.merge(df_name_mapping, on='PatientID', how='left')"
   ]
  },
  {
   "cell_type": "code",
   "execution_count": null,
   "id": "51f32f40",
   "metadata": {
    "id": "51f32f40",
    "outputId": "eac4543b-3117-46ea-cb71-b46d0160d707"
   },
   "outputs": [
    {
     "data": {
      "text/plain": [
       "HGG    45415\n",
       "LGG    11780\n",
       "Name: Grade, dtype: int64"
      ]
     },
     "execution_count": 32,
     "metadata": {},
     "output_type": "execute_result"
    }
   ],
   "source": [
    "df_final['Grade'].value_counts()"
   ]
  },
  {
   "cell_type": "markdown",
   "id": "cca237d8",
   "metadata": {
    "id": "cca237d8"
   },
   "source": [
    "# Visualization"
   ]
  },
  {
   "cell_type": "code",
   "execution_count": null,
   "id": "b69b35af",
   "metadata": {
    "id": "b69b35af",
    "outputId": "82b35f1b-db72-4531-f432-d9d4bc146087"
   },
   "outputs": [
    {
     "data": {
      "text/plain": [
       "(11780, 4)"
      ]
     },
     "execution_count": 33,
     "metadata": {},
     "output_type": "execute_result"
    }
   ],
   "source": [
    "df_LGG = df_final.loc[df_final.Grade == 'LGG']\n",
    "df_LGG.shape"
   ]
  },
  {
   "cell_type": "code",
   "execution_count": null,
   "id": "7e488f06",
   "metadata": {
    "id": "7e488f06",
    "outputId": "a370af0b-0838-4d71-f457-2b7299305abf"
   },
   "outputs": [
    {
     "data": {
      "text/plain": [
       "(45415, 4)"
      ]
     },
     "execution_count": 34,
     "metadata": {},
     "output_type": "execute_result"
    }
   ],
   "source": [
    "df_HGG = df_final.loc[df_final.Grade == 'HGG']\n",
    "df_HGG.shape"
   ]
  },
  {
   "cell_type": "code",
   "execution_count": null,
   "id": "d1c8b162",
   "metadata": {
    "id": "d1c8b162"
   },
   "outputs": [],
   "source": [
    "# Randomly sample 5 rows\n",
    "df_LGG = df_LGG.sample(n = 5)\n",
    "df_HGG = df_HGG.sample(n = 5)"
   ]
  },
  {
   "cell_type": "code",
   "execution_count": null,
   "id": "3981b8e0",
   "metadata": {
    "id": "3981b8e0"
   },
   "outputs": [],
   "source": [
    "from IPython.display import Image"
   ]
  },
  {
   "cell_type": "code",
   "execution_count": null,
   "id": "b4cc7b07",
   "metadata": {
    "id": "b4cc7b07",
    "outputId": "8e6aa933-36ed-4de6-b161-02eb428362f7"
   },
   "outputs": [
    {
     "data": {
      "image/png": "[encoded data removed]",
      "text/plain": [
       "<Figure size 1440x3600 with 15 Axes>"
      ]
     },
     "metadata": {
      "needs_background": "light"
     },
     "output_type": "display_data"
    }
   ],
   "source": [
    "count = 0\n",
    "i = 0\n",
    "fig,axs = plt.subplots(5,3, figsize=(20,50))\n",
    "for i, row in df_LGG.iterrows():\n",
    "    img = imread(df_LGG.image_path[i])\n",
    "    axs[count][0].title.set_text(\"Brain MRI\")\n",
    "    axs[count][0].imshow(img)\n",
    "        \n",
    "    mask = imread(df_LGG.mask_path[i])\n",
    "    axs[count][1].title.set_text(\"Mask\")\n",
    "    axs[count][1].imshow(mask, cmap='gray')\n",
    "        \n",
    "    #img[mask==255] = (0,255,150)  # change pixel color at the position of mask\n",
    "    axs[count][2].title.set_text(\"MRI with Mask\")\n",
    "    axs[count][2].imshow(img)\n",
    "    axs[count][2].imshow(mask, alpha=0.5)\n",
    "    count += 1\n",
    "fig.tight_layout()"
   ]
  },
  {
   "cell_type": "code",
   "execution_count": null,
   "id": "7e887578",
   "metadata": {
    "id": "7e887578",
    "outputId": "f3f937c8-ad15-4d41-d950-f939432328ca"
   },
   "outputs": [
    {
     "data": {
      "image/png": "[encoded data removed]",
      "text/plain": [
       "<Figure size 1440x3600 with 15 Axes>"
      ]
     },
     "metadata": {
      "needs_background": "light"
     },
     "output_type": "display_data"
    }
   ],
   "source": [
    "count = 0\n",
    "i = 0\n",
    "fig,axs = plt.subplots(5,3, figsize=(20,50))\n",
    "for i, row in df_HGG.iterrows():\n",
    "    img = imread(df_HGG.image_path[i])\n",
    "    axs[count][0].title.set_text(\"Brain MRI\")\n",
    "    axs[count][0].imshow(img)\n",
    "        \n",
    "    mask = imread(df_HGG.mask_path[i])\n",
    "    axs[count][1].title.set_text(\"Mask\")\n",
    "    axs[count][1].imshow(mask, cmap='gray')\n",
    "        \n",
    "    #img[mask==255] = (0,255,150)  # change pixel color at the position of mask\n",
    "    axs[count][2].title.set_text(\"MRI with Mask\")\n",
    "    axs[count][2].imshow(img)\n",
    "    axs[count][2].imshow(mask, alpha=0.5)\n",
    "    count += 1\n",
    "fig.tight_layout()"
   ]
  },
  {
   "cell_type": "markdown",
   "id": "dcdee6a7",
   "metadata": {
    "id": "dcdee6a7"
   },
   "source": [
    "# Modelling"
   ]
  },
  {
   "cell_type": "code",
   "execution_count": null,
   "id": "bfa662ca",
   "metadata": {
    "id": "bfa662ca",
    "outputId": "a117e18e-ed61-4ff7-dbfa-d362135d207a"
   },
   "outputs": [
    {
     "name": "stdout",
     "output_type": "stream",
     "text": [
      "Training: 28025 Validation: 12011 Testing: 17159\n"
     ]
    }
   ],
   "source": [
    "from sklearn.model_selection import train_test_split\n",
    "\n",
    "train_and_valid_df, test_df = train_test_split(df_final,\n",
    "                                               test_size = 0.30,\n",
    "                                               random_state = 2018,\n",
    "                                              )\n",
    "\n",
    "train_df, valid_df = train_test_split(train_and_valid_df,\n",
    "                                      test_size=0.30,\n",
    "                                      random_state=2018,\n",
    "                                     )\n",
    "\n",
    "print(f'Training: {train_df.shape[0]} Validation: {valid_df.shape[0]} Testing: {test_df.shape[0]}')"
   ]
  },
  {
   "cell_type": "code",
   "execution_count": null,
   "id": "7c41b186",
   "metadata": {
    "id": "7c41b186"
   },
   "outputs": [],
   "source": [
    "import tensorflow as tf\n",
    "from tensorflow.keras.preprocessing.image import ImageDataGenerator\n",
    "base_generator = ImageDataGenerator(rescale=1./255)"
   ]
  },
  {
   "cell_type": "code",
   "execution_count": null,
   "id": "547c21ca",
   "metadata": {
    "id": "547c21ca"
   },
   "outputs": [],
   "source": [
    "IMG_SIZE = (224, 224)\n",
    "def flow_from_dataframe(image_generator, dataframe, batch_size):\n",
    "\n",
    "    df_gen = image_generator.flow_from_dataframe(dataframe,\n",
    "                                                 x_col='image_path',\n",
    "                                                 y_col='Grade',\n",
    "                                                 target_size=IMG_SIZE,\n",
    "                                                 color_mode='rgb',\n",
    "                                                 class_mode='categorical',\n",
    "                                                 shuffle=False,\n",
    "                                                 batch_size=batch_size)\n",
    "    \n",
    "    return df_gen"
   ]
  },
  {
   "cell_type": "code",
   "execution_count": null,
   "id": "0658bbfe",
   "metadata": {
    "id": "0658bbfe",
    "outputId": "bea3360c-3fdc-43ec-a4e6-ddb8d863a088"
   },
   "outputs": [
    {
     "name": "stdout",
     "output_type": "stream",
     "text": [
      "Found 28025 validated image filenames belonging to 2 classes.\n",
      "Found 12011 validated image filenames belonging to 2 classes.\n",
      "Found 17159 validated image filenames belonging to 2 classes.\n"
     ]
    }
   ],
   "source": [
    "train_gen = flow_from_dataframe(image_generator=base_generator, \n",
    "                                dataframe= train_df,\n",
    "                                batch_size = 16)\n",
    "\n",
    "valid_gen = flow_from_dataframe(image_generator=base_generator, \n",
    "                                dataframe=valid_df,\n",
    "                                batch_size = 16)\n",
    "\n",
    "test_gen = flow_from_dataframe(image_generator=base_generator, \n",
    "                               dataframe=test_df,\n",
    "                               batch_size = 16)"
   ]
  },
  {
   "cell_type": "markdown",
   "id": "268dd59d",
   "metadata": {
    "id": "268dd59d"
   },
   "source": [
    "### VGG16"
   ]
  },
  {
   "cell_type": "code",
   "execution_count": null,
   "id": "7e583422",
   "metadata": {
    "id": "7e583422"
   },
   "outputs": [],
   "source": [
    "from tensorflow.keras.models import Model\n",
    "from tensorflow.keras.optimizers import Adam\n",
    "from tensorflow.keras.applications.vgg16 import VGG16, preprocess_input\n",
    "from tensorflow.keras.callbacks import ModelCheckpoint, EarlyStopping, TensorBoard\n",
    "from tensorflow.keras.layers import Dense, Dropout, Flatten\n",
    "from tensorflow_addons.metrics import F1Score"
   ]
  },
  {
   "cell_type": "code",
   "execution_count": null,
   "id": "f7ba364c",
   "metadata": {
    "id": "f7ba364c"
   },
   "outputs": [],
   "source": [
    "def get_vgg16_model(input_shape, optimizer='rmsprop'):\n",
    "    \n",
    "    conv_base = VGG16(include_top=False, weights='imagenet', input_shape=input_shape)\n",
    "    \n",
    "    #Freeze 6 Layers\n",
    "    for layer in conv_base.layers[:-6]:\n",
    "        layer.trainable = False\n",
    "    \n",
    "    model = conv_base.output\n",
    "    model = Flatten(name=\"flatten\")(model)\n",
    "    model = Dense(4096, activation='relu')(model)\n",
    "    model = Dense(1072, activation='relu')(model)\n",
    "    model = Dropout(0.2)(model)\n",
    "    output_layer = Dense(2, activation='softmax')(model)\n",
    "    #output_layer = Dense(1, activation='sigmoid')(model)\n",
    "    \n",
    "    # Group the convolutional base and new fully-connected layers into a Model object.\n",
    "    model = Model(inputs=conv_base.input, outputs=output_layer)\n",
    "\n",
    "    # Compiles the model for training.\n",
    "    model.compile(optimizer=optimizer, \n",
    "                  loss='binary_crossentropy',\n",
    "                  metrics=['accuracy', F1Score(num_classes=2, average=\"weighted\")])\n",
    "    \n",
    "    return model"
   ]
  },
  {
   "cell_type": "code",
   "execution_count": null,
   "id": "95c45912",
   "metadata": {
    "id": "95c45912"
   },
   "outputs": [],
   "source": [
    "# Define Callbacks\n",
    "\n",
    "# ModelCheckpoint callback - save best weights\n",
    "model_checkpont = ModelCheckpoint(filepath='tumor_classification_vgg16.h5', save_best_only=True, verbose=1)\n",
    "\n",
    "# EarlyStopping\n",
    "early_stop = EarlyStopping(monitor='val_loss', patience=10, restore_best_weights=True, mode='min')"
   ]
  },
  {
   "cell_type": "code",
   "execution_count": null,
   "id": "6349c49c",
   "metadata": {
    "id": "6349c49c"
   },
   "outputs": [],
   "source": [
    "input_shape = (224, 224, 3)\n",
    "adam = Adam(learning_rate=0.001)\n",
    "\n",
    "n_steps = train_gen.samples // 16\n",
    "n_val_steps = valid_gen.samples // 16\n",
    "n_epochs = 12\n",
    "\n",
    "classification_model = get_vgg16_model(input_shape, adam)"
   ]
  },
  {
   "cell_type": "code",
   "execution_count": null,
   "id": "2b4cf7f5",
   "metadata": {
    "id": "2b4cf7f5",
    "outputId": "af0c8ab1-f8a9-4f48-84da-793fac85a14f"
   },
   "outputs": [
    {
     "name": "stdout",
     "output_type": "stream",
     "text": [
      "Epoch 1/12\n",
      "1751/1751 [==============================] - 70s 40ms/step - loss: 0.5333 - accuracy: 0.7916 - f1_score: 0.7916 - val_loss: 0.5039 - val_accuracy: 0.7975 - val_f1_score: 0.7975\n",
      "\n",
      "Epoch 00001: val_loss improved from inf to 0.50395, saving model to tumor_classification.h5\n",
      "Epoch 2/12\n",
      "1751/1751 [==============================] - 66s 38ms/step - loss: 0.5133 - accuracy: 0.7921 - f1_score: 0.7921 - val_loss: 0.5039 - val_accuracy: 0.7975 - val_f1_score: 0.7975\n",
      "\n",
      "Epoch 00002: val_loss improved from 0.50395 to 0.50385, saving model to tumor_classification.h5\n",
      "Epoch 3/12\n",
      "1751/1751 [==============================] - 67s 38ms/step - loss: 0.5132 - accuracy: 0.7921 - f1_score: 0.7921 - val_loss: 0.5039 - val_accuracy: 0.7975 - val_f1_score: 0.7975\n",
      "\n",
      "Epoch 00003: val_loss did not improve from 0.50385\n",
      "Epoch 4/12\n",
      "1751/1751 [==============================] - 66s 38ms/step - loss: 0.5126 - accuracy: 0.7921 - f1_score: 0.7921 - val_loss: 0.5047 - val_accuracy: 0.7975 - val_f1_score: 0.7975\n",
      "\n",
      "Epoch 00004: val_loss did not improve from 0.50385\n",
      "Epoch 5/12\n",
      "1751/1751 [==============================] - 67s 38ms/step - loss: 0.5124 - accuracy: 0.7921 - f1_score: 0.7921 - val_loss: 0.5040 - val_accuracy: 0.7975 - val_f1_score: 0.7975\n",
      "\n",
      "Epoch 00005: val_loss did not improve from 0.50385\n",
      "Epoch 6/12\n",
      "1751/1751 [==============================] - 65s 37ms/step - loss: 0.5122 - accuracy: 0.7921 - f1_score: 0.7921 - val_loss: 0.5042 - val_accuracy: 0.7975 - val_f1_score: 0.7975\n",
      "\n",
      "Epoch 00006: val_loss did not improve from 0.50385\n",
      "Epoch 7/12\n",
      "1751/1751 [==============================] - 66s 37ms/step - loss: 0.5122 - accuracy: 0.7921 - f1_score: 0.7921 - val_loss: 0.5038 - val_accuracy: 0.7975 - val_f1_score: 0.7975\n",
      "\n",
      "Epoch 00007: val_loss improved from 0.50385 to 0.50385, saving model to tumor_classification.h5\n",
      "Epoch 8/12\n",
      "1751/1751 [==============================] - 67s 38ms/step - loss: 0.5119 - accuracy: 0.7921 - f1_score: 0.7921 - val_loss: 0.5051 - val_accuracy: 0.7975 - val_f1_score: 0.7975\n",
      "\n",
      "Epoch 00008: val_loss did not improve from 0.50385\n",
      "Epoch 9/12\n",
      "1751/1751 [==============================] - 66s 38ms/step - loss: 0.5118 - accuracy: 0.7922 - f1_score: 0.7922 - val_loss: 0.5040 - val_accuracy: 0.7975 - val_f1_score: 0.7975\n",
      "\n",
      "Epoch 00009: val_loss did not improve from 0.50385\n",
      "Epoch 10/12\n",
      "1751/1751 [==============================] - 66s 38ms/step - loss: 0.5122 - accuracy: 0.7922 - f1_score: 0.7922 - val_loss: 0.5045 - val_accuracy: 0.7975 - val_f1_score: 0.7975\n",
      "\n",
      "Epoch 00010: val_loss did not improve from 0.50385\n",
      "Epoch 11/12\n",
      "1751/1751 [==============================] - 65s 37ms/step - loss: 0.5118 - accuracy: 0.7921 - f1_score: 0.7921 - val_loss: 0.5039 - val_accuracy: 0.7975 - val_f1_score: 0.7975\n",
      "\n",
      "Epoch 00011: val_loss did not improve from 0.50385\n",
      "Epoch 12/12\n",
      "1751/1751 [==============================] - 68s 39ms/step - loss: 0.5121 - accuracy: 0.7921 - f1_score: 0.7921 - val_loss: 0.5039 - val_accuracy: 0.7975 - val_f1_score: 0.7975\n",
      "\n",
      "Epoch 00012: val_loss did not improve from 0.50385\n"
     ]
    }
   ],
   "source": [
    "classification_history = classification_model.fit(train_gen,\n",
    "                                                    batch_size=16,\n",
    "                                                    epochs=n_epochs,\n",
    "                                                    validation_data=valid_gen,\n",
    "                                                    steps_per_epoch=n_steps,\n",
    "                                                    validation_steps=n_val_steps,\n",
    "                                                    callbacks=[model_checkpont, early_stop],\n",
    "                                                    verbose=1)"
   ]
  },
  {
   "cell_type": "code",
   "execution_count": null,
   "id": "cc622f7d",
   "metadata": {
    "id": "cc622f7d",
    "outputId": "2e908b27-0f3d-4649-cf52-e3c28e3ff294"
   },
   "outputs": [
    {
     "name": "stdout",
     "output_type": "stream",
     "text": [
      "1073/1073 [==============================] - 26s 24ms/step - loss: 0.5076 - accuracy: 0.7947 - f1_score: 0.7947\n"
     ]
    },
    {
     "data": {
      "text/plain": [
       "[0.5076059699058533, 0.7947432994842529, 0.7947432994842529]"
      ]
     },
     "execution_count": 54,
     "metadata": {},
     "output_type": "execute_result"
    }
   ],
   "source": [
    "classification_model.evaluate(test_gen)"
   ]
  },
  {
   "cell_type": "code",
   "execution_count": null,
   "id": "dad0b480",
   "metadata": {
    "id": "dad0b480"
   },
   "outputs": [],
   "source": [
    "df_final.to_csv('../data/image_mask_grade.csv', index=False)"
   ]
  },
  {
   "cell_type": "code",
   "execution_count": null,
   "id": "1789443e",
   "metadata": {
    "id": "1789443e",
    "outputId": "2ac148b4-5f67-4069-954c-a6e5a0e9cd78"
   },
   "outputs": [
    {
     "data": {
      "text/plain": [
       "(57195, 4)"
      ]
     },
     "execution_count": 53,
     "metadata": {},
     "output_type": "execute_result"
    }
   ],
   "source": [
    "df_final.shape"
   ]
  },
  {
   "cell_type": "code",
   "execution_count": null,
   "id": "ea1b810b",
   "metadata": {
    "id": "ea1b810b"
   },
   "outputs": [],
   "source": [
    "classification_model.load_weights('./tumor_classification_vgg16.h5')"
   ]
  },
  {
   "cell_type": "code",
   "execution_count": null,
   "id": "deb802f3",
   "metadata": {
    "id": "deb802f3",
    "outputId": "ad9535f2-c902-4707-a6bd-209158d83f1b"
   },
   "outputs": [
    {
     "data": {
      "image/png": "[encoded data removed]",
      "text/plain": [
       "<Figure size 432x288 with 1 Axes>"
      ]
     },
     "metadata": {
      "needs_background": "light"
     },
     "output_type": "display_data"
    },
    {
     "data": {
      "image/png": "[encoded data removed]",
      "text/plain": [
       "<Figure size 432x288 with 9 Axes>"
      ]
     },
     "metadata": {
      "needs_background": "light"
     },
     "output_type": "display_data"
    }
   ],
   "source": [
    "from tensorflow.keras.preprocessing import image\n",
    "img_path = df_final.image_path[75]\n",
    "img = image.load_img(img_path, target_size=(224, 224))\n",
    "img_tensor = image.img_to_array(img)\n",
    "img_tensor = np.expand_dims(img_tensor, axis=0)\n",
    "img_tensor /= 255.\n",
    "plt.imshow(img_tensor[0])\n",
    "plt.show()\n",
    "\n",
    "layer_outputs = [layer.output for layer in classification_model.layers[:9]]\n",
    "layer_names = [layer.name for layer in classification_model.layers[:9]]\n",
    "# Extracts the outputs of the top 9 layers\n",
    "activation_model = Model(inputs=classification_model.input, outputs=layer_outputs) # Creates a model that will return these outputs, given the model input\n",
    "\n",
    "activations = activation_model.predict(img_tensor)\n",
    "\n",
    "fig = plt.figure()\n",
    "for i in range(len(activations)):\n",
    "    activation = activations[i]\n",
    "    ax = fig.add_subplot(3, 3, i+1)\n",
    "    ax.set_title(layer_names[i])\n",
    "    ax.matshow(activation[0, :, :, 0], cmap='gray')\n",
    "    plt.subplots_adjust(top=1.5)\n",
    "    ax.axis(\"off\")\n",
    "plt.show()"
   ]
  },
  {
   "cell_type": "markdown",
   "id": "LhxeGt4dZX8K",
   "metadata": {
    "id": "LhxeGt4dZX8K"
   },
   "source": [
    "# Resnet50"
   ]
  },
  {
   "cell_type": "code",
   "execution_count": null,
   "id": "7e9108a2",
   "metadata": {
    "id": "7e9108a2"
   },
   "outputs": [],
   "source": [
    "from tensorflow.keras.models import Model\n",
    "from tensorflow.keras.optimizers import Adam\n",
    "from tensorflow.keras.applications.resnet50 import ResNet50, preprocess_input\n",
    "from tensorflow.keras.callbacks import ModelCheckpoint, EarlyStopping, TensorBoard\n",
    "from tensorflow.keras.layers import Dense, Dropout, Flatten\n",
    "from tensorflow_addons.metrics import F1Score"
   ]
  },
  {
   "cell_type": "code",
   "execution_count": null,
   "id": "dHG3AjhmZs6t",
   "metadata": {
    "id": "dHG3AjhmZs6t"
   },
   "outputs": [],
   "source": [
    "def get_renet50_model(input_shape, optimizer='rmsprop'):\n",
    "    \n",
    "    conv_base = ResNet50(include_top=False, weights='imagenet', input_shape=input_shape)\n",
    "      \n",
    "    model = conv_base.output\n",
    "    model = Flatten(name=\"flatten\")(model)\n",
    "    model = Dense(4096, activation='relu')(model)\n",
    "    model = Dense(1072, activation='relu')(model)\n",
    "    model = Dropout(0.2)(model)\n",
    "    output_layer = Dense(2, activation='softmax')(model)\n",
    "    #output_layer = Dense(1, activation='sigmoid')(model)\n",
    "    \n",
    "    # Group the convolutional base and new fully-connected layers into a Model object.\n",
    "    model = Model(inputs=conv_base.input, outputs=output_layer)\n",
    "\n",
    "    # Compiles the model for training.\n",
    "    model.compile(optimizer=optimizer, \n",
    "                  loss='binary_crossentropy',\n",
    "                  metrics=['accuracy', F1Score(num_classes=2, average=\"weighted\")])\n",
    "    \n",
    "    return model"
   ]
  },
  {
   "cell_type": "code",
   "execution_count": null,
   "id": "rlGJHOyRZtDP",
   "metadata": {
    "id": "rlGJHOyRZtDP"
   },
   "outputs": [],
   "source": [
    "# Define Callbacks\n",
    "\n",
    "# ModelCheckpoint callback - save best weights\n",
    "model_checkpont = ModelCheckpoint(filepath='tumor_classification_resnet50.h5', save_best_only=True, verbose=1)\n",
    "\n",
    "# EarlyStopping\n",
    "early_stop = EarlyStopping(monitor='val_loss', patience=10, restore_best_weights=True, mode='min')"
   ]
  },
  {
   "cell_type": "code",
   "execution_count": null,
   "id": "RdJpwy1oZtFn",
   "metadata": {
    "id": "RdJpwy1oZtFn"
   },
   "outputs": [],
   "source": [
    "input_shape = (224, 224, 3)\n",
    "adam = Adam(learning_rate=0.001)\n",
    "\n",
    "n_steps = train_gen.samples // 16\n",
    "n_val_steps = valid_gen.samples // 16\n",
    "n_epochs = 12\n",
    "\n",
    "classification_model = get_renet50_model(input_shape, adam)"
   ]
  },
  {
   "cell_type": "code",
   "execution_count": null,
   "id": "jTeqAVogZtHp",
   "metadata": {
    "id": "jTeqAVogZtHp"
   },
   "outputs": [],
   "source": [
    "classification_history = classification_model.fit(train_gen,\n",
    "                                                    batch_size=16,\n",
    "                                                    epochs=n_epochs,\n",
    "                                                    validation_data=valid_gen,\n",
    "                                                    steps_per_epoch=n_steps,\n",
    "                                                    validation_steps=n_val_steps,\n",
    "                                                    callbacks=[model_checkpont, early_stop],\n",
    "                                                    verbose=1)"
   ]
  },
  {
   "cell_type": "code",
   "execution_count": null,
   "id": "PetokyY8ZtLE",
   "metadata": {
    "id": "PetokyY8ZtLE"
   },
   "outputs": [],
   "source": [
    "classification_model.evaluate(test_gen)"
   ]
  },
  {
   "cell_type": "code",
   "execution_count": null,
   "id": "g2x-h3OFZ32S",
   "metadata": {
    "id": "g2x-h3OFZ32S"
   },
   "outputs": [],
   "source": [
    "df_final.to_csv('../data/image_mask_grade.csv', index=False)"
   ]
  },
  {
   "cell_type": "code",
   "execution_count": null,
   "id": "eoDMQEjTZ34b",
   "metadata": {
    "id": "eoDMQEjTZ34b"
   },
   "outputs": [],
   "source": [
    "classification_model.load_weights('./tumor_classification_resnet50.h5')"
   ]
  },
  {
   "cell_type": "code",
   "execution_count": null,
   "id": "jjMRzddxZ36z",
   "metadata": {
    "id": "jjMRzddxZ36z"
   },
   "outputs": [],
   "source": [
    "from tensorflow.keras.preprocessing import image\n",
    "img_path = df_final.image_path[75]\n",
    "img = image.load_img(img_path, target_size=(224, 224))\n",
    "img_tensor = image.img_to_array(img)\n",
    "img_tensor = np.expand_dims(img_tensor, axis=0)\n",
    "img_tensor /= 255.\n",
    "plt.imshow(img_tensor[0])\n",
    "plt.show()\n",
    "\n",
    "layer_outputs = [layer.output for layer in classification_model.layers[:9]]\n",
    "layer_names = [layer.name for layer in classification_model.layers[:9]]\n",
    "# Extracts the outputs of the top 9 layers\n",
    "activation_model = Model(inputs=classification_model.input, outputs=layer_outputs) # Creates a model that will return these outputs, given the model input\n",
    "\n",
    "activations = activation_model.predict(img_tensor)\n",
    "\n",
    "fig = plt.figure()\n",
    "for i in range(len(activations)):\n",
    "    activation = activations[i]\n",
    "    ax = fig.add_subplot(3, 3, i+1)\n",
    "    ax.set_title(layer_names[i])\n",
    "    ax.matshow(activation[0, :, :, 0], cmap='gray')\n",
    "    plt.subplots_adjust(top=1.5)\n",
    "    ax.axis(\"off\")\n",
    "plt.show()"
   ]
  },
  {
   "cell_type": "code",
   "execution_count": null,
   "id": "mRTJy8xzZ38F",
   "metadata": {
    "id": "mRTJy8xzZ38F"
   },
   "outputs": [],
   "source": []
  }
 ],
 "metadata": {
  "colab": {
   "collapsed_sections": [],
   "name": "Copy of Group_8_ML_Project_Final.ipynb",
   "provenance": []
  },
  "kernelspec": {
   "display_name": "Python 3 (ipykernel)",
   "language": "python",
   "name": "python3"
  },
  "language_info": {
   "codemirror_mode": {
    "name": "ipython",
    "version": 3
   },
   "file_extension": ".py",
   "mimetype": "text/x-python",
   "name": "python",
   "nbconvert_exporter": "python",
   "pygments_lexer": "ipython3",
   "version": "3.9.10"
  }
 },
 "nbformat": 4,
 "nbformat_minor": 5
}
